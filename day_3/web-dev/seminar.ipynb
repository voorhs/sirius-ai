{
 "cells": [
  {
   "cell_type": "markdown",
   "metadata": {},
   "source": [
    "# `Занятие 3.2: Основы Web-разработки`\n",
    "\n",
    "#### `Сириус, смена \"Алгоритмы и анализ данных\" 2024`\n",
    "\n",
    "#### `Алексеев Илья, ММП ВМК МГУ`\n",
    "\n",
    "[Источник GitHub](https://github.com/mmp-practicum-team/mmp_practicum_fall_2024/tree/main/Seminars/11-intro-web)\n",
    "\n",
    "\n"
   ]
  },
  {
   "cell_type": "markdown",
   "metadata": {},
   "source": [
    "### `Мотивация. Игрушечный пример`"
   ]
  },
  {
   "cell_type": "markdown",
   "metadata": {},
   "source": [
    "Представим ситуацию: вы решили сложную задачу (алгоритм поиска, обучение нейросети и т.д.). В нашем случае [задача с литкода](https://leetcode.com/problems/longest-palindromic-substring/description/).\n"
   ]
  },
  {
   "cell_type": "markdown",
   "metadata": {},
   "source": [
    "Содержимое файла `solution.py`:\n",
    "```python\n",
    "def find_palindrome(s: str) -> str:\n",
    "    input_str = s\n",
    "    is_pal = [\n",
    "        [False] * len(input_str) for _ in input_str\n",
    "    ]  # is_pal[i][j] == True iff input_str[i:j+1] is palindromic\n",
    "\n",
    "    for i in range(len(input_str)):\n",
    "        is_pal[i][i] = True\n",
    "\n",
    "    ans = input_str[0]\n",
    "    for substring_len in range(2, len(input_str) + 1):\n",
    "        cur_res = None\n",
    "        for i in range(len(input_str) - substring_len + 1):\n",
    "            j = i + substring_len - 1\n",
    "            tmp_res = (input_str[i] == input_str[j]) and (\n",
    "                substring_len <= 3 or is_pal[i + 1][j - 1]\n",
    "            )\n",
    "            is_pal[i][j] = tmp_res\n",
    "            if tmp_res and cur_res is None:\n",
    "                cur_res = input_str[i : j + 1]\n",
    "        if cur_res is not None:\n",
    "            ans = cur_res\n",
    "    return ans\n",
    "\n",
    "```"
   ]
  },
  {
   "cell_type": "markdown",
   "metadata": {},
   "source": [
    "Что если вы хотите поделиться с миром своей работой? Нужно создать интерфейс взаимодействия! Говоря точно, API (application programming interface). "
   ]
  },
  {
   "cell_type": "markdown",
   "metadata": {},
   "source": [
    "### `Python package`"
   ]
  },
  {
   "cell_type": "markdown",
   "metadata": {},
   "source": [
    "Первое что необходимо сделать, это обернуть свое решение в Python API. Сделаем пакет, из которого можно импортировать функцию `find_palindrome`.\n",
    "\n",
    "\n",
    "Организуем проект:\n",
    "```bash\n",
    "toy_example/\n",
    "├── longest_palindrome\n",
    "│   ├── __init__.py\n",
    "│   └── solution.py\n",
    "└── requirements.txt\n",
    "```\n",
    "\n",
    "Здесь:\n",
    "- `longest_palindrome/solution.py` --- код с решением задачи\n",
    "- `longest_palindrome/__init__.py` --- init-файл, который объявляет директорию `longest_palindrome` пакетом\n",
    "- `requirements.py` --- зависимости, используемые внутри `solution.py`\n",
    "\n",
    "Содержимое файла `__init__.py`:\n",
    "```python\n",
    "from .solution import find_palindrome\n",
    "\n",
    "__all__ = [\"find_palindrome\"]\n",
    "```"
   ]
  },
  {
   "cell_type": "markdown",
   "metadata": {},
   "source": [
    "Пример использования:\n",
    "```python\n",
    "from longest_palindrome import find_palindrome\n",
    "\n",
    "find_palindrome(\"ababad\")\n",
    "```"
   ]
  },
  {
   "cell_type": "markdown",
   "metadata": {},
   "source": [
    "### `Command-line interface (CLI) / Terminal user interface (TUI)`"
   ]
  },
  {
   "cell_type": "markdown",
   "metadata": {},
   "source": [
    "Другой способ взаимодействия с вашим решением --- через терминал. Как насчет того, чтобы реализовать следующий интерфейс:\n",
    "\n",
    "```bash\n",
    "voorhs@maibenben:~$ longest_palindrome --input-word \"ababad\"\n",
    "> ababa\n",
    "```"
   ]
  },
  {
   "cell_type": "markdown",
   "metadata": {},
   "source": [
    "В точности такой интерфейс пока реализовать не сможем... Но вот, что можем сделать. Добавим в корень проекта файл `cli.py` со следующим содержимым:\n",
    "```python\n",
    "import argparse\n",
    "from longest_palindrome import find_palindrome\n",
    "\n",
    "def main():\n",
    "    parser = argparse.ArgumentParser(description=\"Find the longest palindrome in a string.\")\n",
    "    parser.add_argument(\"--input-word\", type=str, help=\"The input string\")\n",
    "    args = parser.parse_args()\n",
    "\n",
    "    result = find_palindrome(args.input_word)\n",
    "    print(f\"Longest palindrome: {result}\")\n",
    "\n",
    "if __name__ == \"__main__\":\n",
    "    main()\n",
    "```"
   ]
  },
  {
   "cell_type": "markdown",
   "metadata": {},
   "source": [
    "Структура проекта:\n",
    "```bash\n",
    "toy_example/\n",
    "├── longest_palindrome\n",
    "│   ├── __init__.py\n",
    "│   └── solution.py\n",
    "├── requirements.txt\n",
    "└── cli.py\n",
    "```"
   ]
  },
  {
   "cell_type": "markdown",
   "metadata": {},
   "source": [
    "Теперь можем взаимодействовать с нашим приложением через терминал:\n",
    "```bash\n",
    "python cli.py --input-word \"ababad\"\n",
    "```\n",
    "\n",
    "Такой способ взаимодействия доступен более широкому кругу пользователей, нежели взаимодействие через python api. Для него не нужно знать python и уметь импортировать. Достаточно просто написать команду в терминале, который стоит на любом компьютере."
   ]
  },
  {
   "cell_type": "markdown",
   "metadata": {},
   "source": [
    "### `HTTP server`"
   ]
  },
  {
   "cell_type": "markdown",
   "metadata": {},
   "source": [
    "Ещё более общим способом взаимодействия с приложением являются HTTP-запросы. Они работают в формате \"request--response\". Вот простой пример, реализующий такой интерфейс:\n",
    "```python\n",
    "from fastapi import FastAPI\n",
    "from longest_palindrome import find_palindrome\n",
    "\n",
    "app = FastAPI()\n",
    "\n",
    "@app.get(\"/longest-palindrome/{input_string}\")\n",
    "def longest_palindrome(input_string: str):\n",
    "    return find_palindrome(input_string)\n",
    "    \n",
    "\n",
    "if __name__ == \"__main__\":\n",
    "    import uvicorn\n",
    "    uvicorn.run(app, host=\"127.0.0.1\", port=8000)\n",
    "```"
   ]
  },
  {
   "cell_type": "markdown",
   "metadata": {},
   "source": [
    "Теперь можно провзаимодействовать с приложением, введя в браузере следующий адрес\n",
    "```url\n",
    "http://127.0.0.1:8000/longest-palindrome/ababad\n",
    "```\n",
    "В ответ получим веб-страницу, с единственным содержимым: `\"ababa\"`"
   ]
  },
  {
   "cell_type": "markdown",
   "metadata": {},
   "source": [
    "О других способах создания HTTP-запросов поговорим далее в этом уроке (python requests, curl). Единственный вывод, который нужно сделать из данного игрушечного примера: HTTP --- это интефейс взаимодействия с приложением (API). \n",
    "\n",
    "Разговору о FastAPI будет посвящена вся лекция, которая состоится через неделю."
   ]
  },
  {
   "cell_type": "markdown",
   "metadata": {},
   "source": [
    "### `Создание HTTP-запросов`"
   ]
  },
  {
   "cell_type": "markdown",
   "metadata": {},
   "source": [
    "Пример с обращением через браузер был скорее для наглядности. В реальной жизни такой способ взаимодействия используют исключительно для получения медиа-контента в виде веб-страниц (\"сайтов\").\n",
    "\n",
    "В более общем случае HTTP может передавать произвольную информацию. Чтобы её получать, можете воспользоваться командой `curl` в терминале или библиотекой `requests` в python."
   ]
  },
  {
   "cell_type": "markdown",
   "metadata": {},
   "source": [
    "Пример **CURL** (client URL).\n",
    "```bash\n",
    "curl 'http://127.0.0.1:8000/longest-palindrome/babad'\n",
    "```"
   ]
  },
  {
   "cell_type": "markdown",
   "metadata": {},
   "source": [
    "Пример `requests`:\n",
    "\n",
    "```python\n",
    "import requests\n",
    "\n",
    "response = requests.get('http://127.0.0.1:8000/longest-palindrome/babad')\n",
    "\n",
    "print(response.text)\n",
    "```"
   ]
  },
  {
   "cell_type": "markdown",
   "metadata": {},
   "source": [
    "### `HTTP`"
   ]
  },
  {
   "cell_type": "markdown",
   "metadata": {},
   "source": [
    "HTTP (HyperText Transfer Protocol) — это протокол, позволяющий получать различные ресурсы. Изначально, как следует из названия — для документов, но сейчас уже для передачи произвольных данных. Лежит в основе обмена данными в Web.\n",
    "\n",
    "Это протокол клиент-серверного взаимодействия, что означает инициирование запросов к сереверу самим получателем. Итоговый документ может состоять из различных частей: текст, аудио/видео файлов, скриптов. Взаимодействие осущетвляется посредством обмена одиночными сообщенимями: запрос-ответ.\n",
    "\n",
    "**Утилиты для работы с HTTP есть в любом популярном языке программирования.** На нем основана web разработка, которая состоит из backend и frontend части. Backend предоставляет HTTP API, а frontend обращается к нему и визуализирует.\n",
    "\n",
    "\n",
    "> Python: The requests library is widely used for making HTTP requests. Python also has built-in libraries like urllib and http.client for this purpose.\n",
    "> \n",
    "> JavaScript (Node.js): Libraries like axios, fetch (in browser environments), and the built-in http and https modules are commonly used.\n",
    "> \n",
    "> Java: Libraries such as HttpURLConnection, OkHttp, and Apache HttpClient are popular choices.\n",
    "> \n",
    "> C# (.NET): The HttpClient class is commonly used for making HTTP requests.\n",
    "> \n",
    "> Ruby: The Net::HTTP library is built-in, and Faraday is a popular third-party library.\n",
    "> \n",
    "> PHP: The cURL extension and the Guzzle library are widely used.\n",
    "> \n",
    "> Go: The net/http package is part of the standard library and is used for making HTTP requests.\n",
    "> \n",
    "> Swift: Libraries like URLSession and third-party libraries like Alamofire are commonly used.\n",
    "> \n",
    "> Kotlin/Java (Android): Libraries like Retrofit and OkHttp are popular for making HTTP requests.\n",
    "> \n",
    "> Rust: The reqwest crate is commonly used for making HTTP requests.\n",
    "\n",
    "HTTP является протоколом прикладного уровня, который в качестве транспорта использует возможности другого протокола — TCP. Основное требование к транспортному протоколу — надёжность, то есть, гарантированная доставка сообщений. По этой причине не подходит другой распространённый протокол — UDP, который не гарантирует доставку сообщений.\n",
    "\n",
    "#### Преимущества\n",
    "- Прост и человекочитаем\n",
    "- Расширяем\n",
    "- Не имеет состояния (каждый запрос — в отрыве от остальных), следовательно, базово простой\n",
    "\n",
    "#### Расширения\n",
    "- Кэш — сервер может инструктировать клиента/прокси о том, что и как надолго можно кэшировать\n",
    "- Ослабления ограничения источника — инструкции клиенту о том, что на загружаемой странице может содержаться информация с других доменов\n",
    "- Аутентификация — для доступа к защищённой информации\n",
    "- Прокси и туннелирование — сокрытие источника или получателя информации, кэширование для уменьшения нагрузки\n",
    "- Сессии — расширение для сохранения состояния взаимодействия. Несколько механизмов, самый известный — cookies"
   ]
  },
  {
   "cell_type": "markdown",
   "metadata": {},
   "source": [
    "### `Пример с GitHub API`"
   ]
  },
  {
   "cell_type": "markdown",
   "metadata": {},
   "source": [
    "Получить информацию о контрибьюторах репозитория:\n",
    "\n",
    "```bash\n",
    "curl -X GET \\\n",
    "    -H \"Authorization: token $github_api_token\" \\\n",
    "    https://api.github.com/repos/deeppavlov/AutoIntent/contributors\n",
    "```"
   ]
  },
  {
   "cell_type": "markdown",
   "metadata": {},
   "source": [
    "Получить информацию о ветках репозитория:\n",
    "```bash\n",
    "curl -X GET \\\n",
    "    -H \"Authorization: token $github_api_token\" \\\n",
    "    https://api.github.com/repos/deeppavlov/AutoIntent/branches\n",
    "```"
   ]
  },
  {
   "cell_type": "markdown",
   "metadata": {},
   "source": [
    "Открыть новый issue:\n",
    "```bash\n",
    "curl -X POST \\\n",
    "    -H \"Authorization: token $github_api_token\" \\\n",
    "    -d '{\"title\":\"Found a bug\",\"body\":\"Im having a problem with this.\"}' \\\n",
    "    https://api.github.com/repos/octocat/Hello-World/issues\n",
    "```\n",
    "\n",
    "Здесь `-X` называют типом (методом) запроса, `-d` называют телом запроса, `-H` --- заголовком запроса."
   ]
  },
  {
   "cell_type": "markdown",
   "metadata": {},
   "source": [
    "При работе с API почти всегда возникает необходимость авторизовываться с помощью токена (ключа). Личный токен не стоит распространять, если не хочется, чтобы кто-то выполнил действия от вашего имени.\n",
    "\n",
    "В linux такие секретные ключи можно собрать в `.env` файл и загрузить как переменные окружения из терминала командой `. .env`."
   ]
  },
  {
   "cell_type": "markdown",
   "metadata": {},
   "source": [
    "Всё то же самое, но с помощью python `requests`:"
   ]
  },
  {
   "cell_type": "code",
   "execution_count": 2,
   "metadata": {},
   "outputs": [],
   "source": [
    "from dotenv import load_dotenv\n",
    "import os\n",
    "\n",
    "load_dotenv()\n",
    "github_api_token = os.environ[\"github_api_token\"]"
   ]
  },
  {
   "cell_type": "markdown",
   "metadata": {},
   "source": [
    "В питоне секретные ключи можно загрузить в linux-окружение с помощью third-party библиотекеи `dotenv`. Чтобы загрузить переменные из linux-окружения, достаточно обратиться к словарику `os.environ` стандартной библиотеки `os`."
   ]
  },
  {
   "cell_type": "code",
   "execution_count": 3,
   "metadata": {},
   "outputs": [],
   "source": [
    "headers = {\n",
    "    \"Authorization\": f\"token {github_api_token}\"\n",
    "}"
   ]
  },
  {
   "cell_type": "code",
   "execution_count": 4,
   "metadata": {},
   "outputs": [
    {
     "name": "stdout",
     "output_type": "stream",
     "text": [
      "[{'login': 'Samoed', 'id': 36135455, 'node_id': 'MDQ6VXNlcjM2MTM1NDU1', 'avatar_url': 'https://avatars.githubusercontent.com/u/36135455?v=4', 'gravatar_id': '', 'url': 'https://api.github.com/users/Samoed', 'html_url': 'https://github.com/Samoed', 'followers_url': 'https://api.github.com/users/Samoed/followers', 'following_url': 'https://api.github.com/users/Samoed/following{/other_user}', 'gists_url': 'https://api.github.com/users/Samoed/gists{/gist_id}', 'starred_url': 'https://api.github.com/users/Samoed/starred{/owner}{/repo}', 'subscriptions_url': 'https://api.github.com/users/Samoed/subscriptions', 'organizations_url': 'https://api.github.com/users/Samoed/orgs', 'repos_url': 'https://api.github.com/users/Samoed/repos', 'events_url': 'https://api.github.com/users/Samoed/events{/privacy}', 'received_events_url': 'https://api.github.com/users/Samoed/received_events', 'type': 'User', 'user_view_type': 'public', 'site_admin': False, 'contributions': 57}, {'login': 'voorhs', 'id': 44509110, 'node_id': 'MDQ6VXNlcjQ0NTA5MTEw', 'avatar_url': 'https://avatars.githubusercontent.com/u/44509110?v=4', 'gravatar_id': '', 'url': 'https://api.github.com/users/voorhs', 'html_url': 'https://github.com/voorhs', 'followers_url': 'https://api.github.com/users/voorhs/followers', 'following_url': 'https://api.github.com/users/voorhs/following{/other_user}', 'gists_url': 'https://api.github.com/users/voorhs/gists{/gist_id}', 'starred_url': 'https://api.github.com/users/voorhs/starred{/owner}{/repo}', 'subscriptions_url': 'https://api.github.com/users/voorhs/subscriptions', 'organizations_url': 'https://api.github.com/users/voorhs/orgs', 'repos_url': 'https://api.github.com/users/voorhs/repos', 'events_url': 'https://api.github.com/users/voorhs/events{/privacy}', 'received_events_url': 'https://api.github.com/users/voorhs/received_events', 'type': 'User', 'user_view_type': 'public', 'site_admin': False, 'contributions': 31}, {'login': 'truff4ut', 'id': 43514910, 'node_id': 'MDQ6VXNlcjQzNTE0OTEw', 'avatar_url': 'https://avatars.githubusercontent.com/u/43514910?v=4', 'gravatar_id': '', 'url': 'https://api.github.com/users/truff4ut', 'html_url': 'https://github.com/truff4ut', 'followers_url': 'https://api.github.com/users/truff4ut/followers', 'following_url': 'https://api.github.com/users/truff4ut/following{/other_user}', 'gists_url': 'https://api.github.com/users/truff4ut/gists{/gist_id}', 'starred_url': 'https://api.github.com/users/truff4ut/starred{/owner}{/repo}', 'subscriptions_url': 'https://api.github.com/users/truff4ut/subscriptions', 'organizations_url': 'https://api.github.com/users/truff4ut/orgs', 'repos_url': 'https://api.github.com/users/truff4ut/repos', 'events_url': 'https://api.github.com/users/truff4ut/events{/privacy}', 'received_events_url': 'https://api.github.com/users/truff4ut/received_events', 'type': 'User', 'user_view_type': 'public', 'site_admin': False, 'contributions': 7}, {'login': 'Darinochka', 'id': 39233990, 'node_id': 'MDQ6VXNlcjM5MjMzOTkw', 'avatar_url': 'https://avatars.githubusercontent.com/u/39233990?v=4', 'gravatar_id': '', 'url': 'https://api.github.com/users/Darinochka', 'html_url': 'https://github.com/Darinochka', 'followers_url': 'https://api.github.com/users/Darinochka/followers', 'following_url': 'https://api.github.com/users/Darinochka/following{/other_user}', 'gists_url': 'https://api.github.com/users/Darinochka/gists{/gist_id}', 'starred_url': 'https://api.github.com/users/Darinochka/starred{/owner}{/repo}', 'subscriptions_url': 'https://api.github.com/users/Darinochka/subscriptions', 'organizations_url': 'https://api.github.com/users/Darinochka/orgs', 'repos_url': 'https://api.github.com/users/Darinochka/repos', 'events_url': 'https://api.github.com/users/Darinochka/events{/privacy}', 'received_events_url': 'https://api.github.com/users/Darinochka/received_events', 'type': 'User', 'user_view_type': 'public', 'site_admin': False, 'contributions': 6}, {'login': 'Dmitryv-2024', 'id': 180643973, 'node_id': 'U_kgDOCsRohQ', 'avatar_url': 'https://avatars.githubusercontent.com/u/180643973?v=4', 'gravatar_id': '', 'url': 'https://api.github.com/users/Dmitryv-2024', 'html_url': 'https://github.com/Dmitryv-2024', 'followers_url': 'https://api.github.com/users/Dmitryv-2024/followers', 'following_url': 'https://api.github.com/users/Dmitryv-2024/following{/other_user}', 'gists_url': 'https://api.github.com/users/Dmitryv-2024/gists{/gist_id}', 'starred_url': 'https://api.github.com/users/Dmitryv-2024/starred{/owner}{/repo}', 'subscriptions_url': 'https://api.github.com/users/Dmitryv-2024/subscriptions', 'organizations_url': 'https://api.github.com/users/Dmitryv-2024/orgs', 'repos_url': 'https://api.github.com/users/Dmitryv-2024/repos', 'events_url': 'https://api.github.com/users/Dmitryv-2024/events{/privacy}', 'received_events_url': 'https://api.github.com/users/Dmitryv-2024/received_events', 'type': 'User', 'user_view_type': 'public', 'site_admin': False, 'contributions': 4}, {'login': 'kudep', 'id': 11869257, 'node_id': 'MDQ6VXNlcjExODY5MjU3', 'avatar_url': 'https://avatars.githubusercontent.com/u/11869257?v=4', 'gravatar_id': '', 'url': 'https://api.github.com/users/kudep', 'html_url': 'https://github.com/kudep', 'followers_url': 'https://api.github.com/users/kudep/followers', 'following_url': 'https://api.github.com/users/kudep/following{/other_user}', 'gists_url': 'https://api.github.com/users/kudep/gists{/gist_id}', 'starred_url': 'https://api.github.com/users/kudep/starred{/owner}{/repo}', 'subscriptions_url': 'https://api.github.com/users/kudep/subscriptions', 'organizations_url': 'https://api.github.com/users/kudep/orgs', 'repos_url': 'https://api.github.com/users/kudep/repos', 'events_url': 'https://api.github.com/users/kudep/events{/privacy}', 'received_events_url': 'https://api.github.com/users/kudep/received_events', 'type': 'User', 'user_view_type': 'public', 'site_admin': False, 'contributions': 1}, {'login': 'JakeRaskind', 'id': 55792828, 'node_id': 'MDQ6VXNlcjU1NzkyODI4', 'avatar_url': 'https://avatars.githubusercontent.com/u/55792828?v=4', 'gravatar_id': '', 'url': 'https://api.github.com/users/JakeRaskind', 'html_url': 'https://github.com/JakeRaskind', 'followers_url': 'https://api.github.com/users/JakeRaskind/followers', 'following_url': 'https://api.github.com/users/JakeRaskind/following{/other_user}', 'gists_url': 'https://api.github.com/users/JakeRaskind/gists{/gist_id}', 'starred_url': 'https://api.github.com/users/JakeRaskind/starred{/owner}{/repo}', 'subscriptions_url': 'https://api.github.com/users/JakeRaskind/subscriptions', 'organizations_url': 'https://api.github.com/users/JakeRaskind/orgs', 'repos_url': 'https://api.github.com/users/JakeRaskind/repos', 'events_url': 'https://api.github.com/users/JakeRaskind/events{/privacy}', 'received_events_url': 'https://api.github.com/users/JakeRaskind/received_events', 'type': 'User', 'user_view_type': 'public', 'site_admin': False, 'contributions': 1}]\n",
      "[{'name': 'ac_integration', 'commit': {'sha': 'e0cdd7b1680b5e80573c4db379ce1f4950245301', 'url': 'https://api.github.com/repos/deeppavlov/AutoIntent/commits/e0cdd7b1680b5e80573c4db379ce1f4950245301'}, 'protected': False, 'protection': {'enabled': False, 'required_status_checks': {'enforcement_level': 'off', 'contexts': [], 'checks': []}}, 'protection_url': 'https://api.github.com/repos/deeppavlov/AutoIntent/branches/ac_integration/protection'}, {'name': 'dev', 'commit': {'sha': 'ecad794b32f377cbce927c6cb58a4d5b2d261c9c', 'url': 'https://api.github.com/repos/deeppavlov/AutoIntent/commits/ecad794b32f377cbce927c6cb58a4d5b2d261c9c'}, 'protected': True, 'protection': {'enabled': False, 'required_status_checks': {'enforcement_level': 'off', 'contexts': [], 'checks': []}}, 'protection_url': 'https://api.github.com/repos/deeppavlov/AutoIntent/branches/dev/protection'}, {'name': 'feat/sklearn_scorer', 'commit': {'sha': 'f88efbbdaf232ca56d9a09f17f445e58515aaa01', 'url': 'https://api.github.com/repos/deeppavlov/AutoIntent/commits/f88efbbdaf232ca56d9a09f17f445e58515aaa01'}, 'protected': False, 'protection': {'enabled': False, 'required_status_checks': {'enforcement_level': 'off', 'contexts': [], 'checks': []}}, 'protection_url': 'https://api.github.com/repos/deeppavlov/AutoIntent/branches/feat/sklearn_scorer/protection'}, {'name': 'feat/utterances-llm-generation', 'commit': {'sha': '8211e0adb95da6285d26feaaf91cc2412b40cb58', 'url': 'https://api.github.com/repos/deeppavlov/AutoIntent/commits/8211e0adb95da6285d26feaaf91cc2412b40cb58'}, 'protected': False, 'protection': {'enabled': False, 'required_status_checks': {'enforcement_level': 'off', 'contexts': [], 'checks': []}}, 'protection_url': 'https://api.github.com/repos/deeppavlov/AutoIntent/branches/feat/utterances-llm-generation/protection'}, {'name': 'fix/datasets', 'commit': {'sha': '8ddad3310b97071ee787ca4a33512ad8bdd7fdc0', 'url': 'https://api.github.com/repos/deeppavlov/AutoIntent/commits/8ddad3310b97071ee787ca4a33512ad8bdd7fdc0'}, 'protected': False, 'protection': {'enabled': False, 'required_status_checks': {'enforcement_level': 'off', 'contexts': [], 'checks': []}}, 'protection_url': 'https://api.github.com/repos/deeppavlov/AutoIntent/branches/fix/datasets/protection'}, {'name': 'gh-pages', 'commit': {'sha': '7e77cbe0940a16fe267798be6c8fa4bd1dd09cda', 'url': 'https://api.github.com/repos/deeppavlov/AutoIntent/commits/7e77cbe0940a16fe267798be6c8fa4bd1dd09cda'}, 'protected': False, 'protection': {'enabled': False, 'required_status_checks': {'enforcement_level': 'off', 'contexts': [], 'checks': []}}, 'protection_url': 'https://api.github.com/repos/deeppavlov/AutoIntent/branches/gh-pages/protection'}]\n",
      "{'url': 'https://api.github.com/repos/octocat/Hello-World/issues/3437', 'repository_url': 'https://api.github.com/repos/octocat/Hello-World', 'labels_url': 'https://api.github.com/repos/octocat/Hello-World/issues/3437/labels{/name}', 'comments_url': 'https://api.github.com/repos/octocat/Hello-World/issues/3437/comments', 'events_url': 'https://api.github.com/repos/octocat/Hello-World/issues/3437/events', 'html_url': 'https://github.com/octocat/Hello-World/issues/3437', 'id': 2735586337, 'node_id': 'I_kwDOABPHjc6jDbwh', 'number': 3437, 'title': 'Found a bug', 'user': {'login': 'voorhs', 'id': 44509110, 'node_id': 'MDQ6VXNlcjQ0NTA5MTEw', 'avatar_url': 'https://avatars.githubusercontent.com/u/44509110?v=4', 'gravatar_id': '', 'url': 'https://api.github.com/users/voorhs', 'html_url': 'https://github.com/voorhs', 'followers_url': 'https://api.github.com/users/voorhs/followers', 'following_url': 'https://api.github.com/users/voorhs/following{/other_user}', 'gists_url': 'https://api.github.com/users/voorhs/gists{/gist_id}', 'starred_url': 'https://api.github.com/users/voorhs/starred{/owner}{/repo}', 'subscriptions_url': 'https://api.github.com/users/voorhs/subscriptions', 'organizations_url': 'https://api.github.com/users/voorhs/orgs', 'repos_url': 'https://api.github.com/users/voorhs/repos', 'events_url': 'https://api.github.com/users/voorhs/events{/privacy}', 'received_events_url': 'https://api.github.com/users/voorhs/received_events', 'type': 'User', 'user_view_type': 'public', 'site_admin': False}, 'labels': [], 'state': 'open', 'locked': False, 'assignee': None, 'assignees': [], 'milestone': None, 'comments': 0, 'created_at': '2024-12-12T11:07:45Z', 'updated_at': '2024-12-12T11:07:45Z', 'closed_at': None, 'author_association': 'NONE', 'active_lock_reason': None, 'body': \"I'm having a problem with this.\", 'closed_by': None, 'reactions': {'url': 'https://api.github.com/repos/octocat/Hello-World/issues/3437/reactions', 'total_count': 0, '+1': 0, '-1': 0, 'laugh': 0, 'hooray': 0, 'confused': 0, 'heart': 0, 'rocket': 0, 'eyes': 0}, 'timeline_url': 'https://api.github.com/repos/octocat/Hello-World/issues/3437/timeline', 'performed_via_github_app': None, 'state_reason': None}\n"
     ]
    }
   ],
   "source": [
    "import requests\n",
    "\n",
    "\n",
    "# GET request for contributors\n",
    "contributors_url = \"https://api.github.com/repos/deeppavlov/AutoIntent/contributors\"\n",
    "contributors_response = requests.get(contributors_url, headers=headers)\n",
    "print(contributors_response.json())\n",
    "\n",
    "# GET request for branches\n",
    "branches_url = \"https://api.github.com/repos/deeppavlov/AutoIntent/branches\"\n",
    "branches_response = requests.get(branches_url, headers=headers)\n",
    "print(branches_response.json())\n",
    "\n",
    "# POST request to create an issue\n",
    "issues_url = \"https://api.github.com/repos/octocat/Hello-World/issues\"\n",
    "issue_data = {\n",
    "    \"title\": \"Found a bug\",\n",
    "    \"body\": \"I'm having a problem with this.\"\n",
    "}\n",
    "issues_response = requests.post(issues_url, headers=headers, json=issue_data)\n",
    "print(issues_response.json())"
   ]
  },
  {
   "cell_type": "markdown",
   "metadata": {},
   "source": [
    "### `Пример с VK API`"
   ]
  },
  {
   "cell_type": "code",
   "execution_count": 5,
   "metadata": {},
   "outputs": [],
   "source": [
    "from dotenv import load_dotenv\n",
    "import os\n",
    "\n",
    "load_dotenv()\n",
    "app_service_token = os.environ[\"app_service_token\"]"
   ]
  },
  {
   "cell_type": "code",
   "execution_count": 6,
   "metadata": {},
   "outputs": [],
   "source": [
    "import requests\n",
    "\n",
    "def get_newsfeed(query: str, app_service_token: str):\n",
    "    return requests.get(\n",
    "        url=\"https://api.vk.ru/method/newsfeed.search\",\n",
    "        params={\n",
    "            \"v\": \"5.199\",\n",
    "            \"access_token\": app_service_token,\n",
    "            \"q\": query\n",
    "        },\n",
    "    ).json()"
   ]
  },
  {
   "cell_type": "code",
   "execution_count": 7,
   "metadata": {},
   "outputs": [],
   "source": [
    "response = get_newsfeed(\"pepe\", app_service_token)"
   ]
  },
  {
   "cell_type": "code",
   "execution_count": 16,
   "metadata": {},
   "outputs": [
    {
     "data": {
      "text/plain": [
       "['inner_type',\n",
       " 'donut',\n",
       " 'comments',\n",
       " 'marked_as_ads',\n",
       " 'type',\n",
       " 'attachments',\n",
       " 'date',\n",
       " 'from_id',\n",
       " 'id',\n",
       " 'likes',\n",
       " 'reaction_set_id',\n",
       " 'owner_id',\n",
       " 'post_source',\n",
       " 'post_type',\n",
       " 'reposts',\n",
       " 'text',\n",
       " 'views']"
      ]
     },
     "execution_count": 16,
     "metadata": {},
     "output_type": "execute_result"
    }
   ],
   "source": [
    "item = response[\"response\"][\"items\"][1]\n",
    "list(item.keys())"
   ]
  },
  {
   "cell_type": "code",
   "execution_count": null,
   "metadata": {},
   "outputs": [
    {
     "name": "stdout",
     "output_type": "stream",
     "text": [
      "('Дата рождения\\n'\n",
      " '12 декабря 1915 год\\n'\n",
      " 'Киноактёр, Кинорежиссёр, Певец \\n'\n",
      " 'Лауреат «Оскар»\\n'\n",
      " 'исполнил роли в более чем в 50 фильмах\\n'\n",
      " '#Frank #Sinatra\\n'\n",
      " 'Ну, а теперь фильм 1947 год:\\n'\n",
      " 'Это произошло в Бруклине\\n'\n",
      " 'It Happened in #Brooklyn\\n'\n",
      " '#Фрэнк #Синатра и #Джимми #Дюранте \\n'\n",
      " 'поют романс #ОчиЧёрные\\n'\n",
      " '\\n'\n",
      " 'Потрясающая Фильмография\\n'\n",
      " '1941 ф Ночи Лас-Вегаса Las Vegas Nights в роли самого себя\\n'\n",
      " '1942 ф На судне Ship Ahoy в роли самого себя\\n'\n",
      " '1943 ф Побудка с Беверли Reveille with Beverly в роли самого себя\\n'\n",
      " '1943 ф Выше и выше Higher and Higher Фрэнк\\n'\n",
      " '1944 кор — The Shining Future в роли самого себя\\n'\n",
      " '1944 кор — The Road to Victory в роли самого себя\\n'\n",
      " '1944 ф Шагай веселее Step Lively Гленн Расселл\\n'\n",
      " '1945 ф Поднять якоря Anchors Aweigh Кларенс Дулиттл\\n'\n",
      " '1946 ф Когда рассеиваются тучи Till the Clouds Roll By в роли самого себя\\n'\n",
      " '1947 ф Это произошло в Бруклине It Happened in Brooklyn Дэнни Уэбсон Миллер\\n'\n",
      " '1948 ф Чудо колокола The Miracle of the Bells отец Пол\\n'\n",
      " '1948 ф Целующийся бандит The Kissing Bandit Рикардо\\n'\n",
      " '1949 ф Возьми меня с собой на бейсбол Take Me Out to the Ball Game Деннис '\n",
      " 'Райан\\n'\n",
      " '1949 ф Увольнение в город On the Town Чип\\n'\n",
      " '1951 ф Двойной динамит Double Dynamite Джонни Далтон\\n'\n",
      " '1952 ф Знакомьтесь — Дэнни Уилсон Meet Danny Wilson Дэнни Уилсон\\n'\n",
      " '1953 ф Отныне и во веки веков From Here to Eternity рядовой Анджело Маджио\\n'\n",
      " '1954 с Час комедии от Колгейт The Colgate Comedy Hour Гарри Дейн\\n'\n",
      " '1954 ф Три монеты в фонтане Three Coins in the Fountain певец\\n'\n",
      " '1954 ф Неожиданный Suddenly Джон Бейрон\\n'\n",
      " '1954 ф Это молодое сердце Young at Heart Барни Слоан\\n'\n",
      " '1955 ф Не как чужой Not as a Stranger Альфред Бун\\n'\n",
      " '1955 с Продюсерская витрина Producers’ Showcase помощник режиссёра\\n'\n",
      " '1955 ф Парни и куколки Guys and Dolls Нейтан Детройт\\n'\n",
      " '1955 ф Нежный капкан The Tender Trap Чарли Ридер\\n'\n",
      " '1955 ф Человек с золотой рукой The Man With the Golden Arm Фрэнки Макине\\n'\n",
      " '1956 ф Встречай меня в Лас-Вегасе Meet Me in Las Vegas человек за игровым '\n",
      " 'автоматом\\n'\n",
      " '1956 ф Высшее общество High Society Майк Коннор\\n'\n",
      " '1956 ф Джонни Кончо Johnny Concho Джонни Кончо / Джонни Коллинз\\n'\n",
      " '1956 ф Вокруг света за 80 дней Around The World In 80 Days тапёр в салуне\\n'\n",
      " '1957 ф Гордость и страсть The Pride and the Passion Мигель\\n'\n",
      " '1957 ф Джокер The Joker Is Wild Джо Льюис\\n'\n",
      " '1957 ф Приятель Джои Pal Joey Джои Эванс\\n'\n",
      " '1958 ф Короли отправляются в путь Kings Go Forth старший лейтенант Сэм '\n",
      " 'Логгинс\\n'\n",
      " '1958 с Тонкий человек The Thin Man сосед\\n'\n",
      " '1958 ф И подбежали они Some Came Running Дейв Херш\\n'\n",
      " '1959 ф Дыра в голове A Hole in the Head Тони Манетта\\n'\n",
      " '1959 ф Никогда не было так мало Never So Few капитан Том Рейнольдс\\n'\n",
      " '1960 ф Канкан Can-can Франсуа Дьюрне\\n'\n",
      " '1960 ф Одиннадцать друзей Оушена Ocean’s Eleven Дэнни Оушен\\n'\n",
      " '1960 ф Мексиканец в Голливуде Pepe в роли самого себя\\n'\n",
      " '1961 ф Дьявол в 4 часа The Devil at 4 O’Clock Гарри\\n'\n",
      " '1962 ф Три сержанта Sergeants 3 первый сержант Марк Мерри\\n'\n",
      " '1962 ф Дорога в Гонконг The Road to Hong Kong обитатель Плутона\\n'\n",
      " '1962 ф Маньчжурский кандидат The Manchurian Candidate майор Беннетт Марко\\n'\n",
      " '1963 ф Список Эдриана Мессенджера The List of Adrian Messenger цыган\\n'\n",
      " '1963 ф Приди и протруби в свой рог Come Blow Your Horn Алан Бейкер\\n'\n",
      " '1963 ф Четверо из Техаса 4 for Texas Зак Томас\\n'\n",
      " '1964 ф Париж, когда там жара Paris When It Sizzles певец\\n'\n",
      " '1964 ф Робин и 7 гангстеров Robin and the 7 Hoods Роббо\\n'\n",
      " '1965 ф Только отважные None But the Brave старший помощник фармацевта\\n'\n",
      " '1965 ф Поезд фон Райана Von Ryan’s Express полковник Джозеф Райан\\n'\n",
      " '1965 ф Свадьба на скалах Marriage on the Rocks Дэн Эдвардс\\n'\n",
      " '1966 ф Оскар The Oscar в роли самого себя\\n'\n",
      " '1966 ф Откинь гигантскую тень Cast a Giant Shadow Винс Толмадж\\n'\n",
      " '1966 ф Нападение на «Королеву» Assault on a Queen Марк Бриттен\\n'\n",
      " '1967 ф Обнажённый беглец The Naked Runner Сэм Лейкер\\n'\n",
      " '1967 ф Тони Роум Tony Rome Тони Роум\\n'\n",
      " '1968 ф Детектив The Detective Джо Лиланд\\n'\n",
      " '1968 ф Девушка в цементе Lady in Cement Тони Роум\\n'\n",
      " '1969 с — Romeo und Julia ’70 в роли самого себя\\n'\n",
      " '1970 ф Грязный Дингус Маги Dirty Dingus Magee Дингус Билли Маги\\n'\n",
      " '1977 тф Контракт на Черри-стрит Contract on Cherry Street заместитель '\n",
      " 'инспектора Фрэнк Хованнес\\n'\n",
      " '1977—1978 с Хохмы Laugh-In гость\\n'\n",
      " '1980 ф Первый смертный грех The First Deadly Sin Эдвард Делани\\n'\n",
      " '1984 ф Гонки «Пушечное ядро» 2 Cannonball Run 2 в роли самого себя\\n'\n",
      " '1987 с Частный детектив Магнум Magnum, P.I. отставной полицейский Майкл '\n",
      " 'Доэни\\n'\n",
      " '1989 с Кто здесь босс? Who’s the Boss? в роли самого себя\\n'\n",
      " '\\n'\n",
      " 'Альбомы, концертные записи и сборники\\n'\n",
      " '1946 — The Voice Of Frank Sinatra\\n'\n",
      " '1948 — Christmas Songs By Sinatra\\n'\n",
      " '1949 — Frankly Sentimental\\n'\n",
      " '1950 — Songs By Sinatra\\n'\n",
      " '1951 — Swing And Dance With Frank Sinatra\\n'\n",
      " '1954 — Songs For Young Lovers\\n'\n",
      " '1954 — Swing Easy!\\n'\n",
      " '1955 — In The Wee Small Hours\\n'\n",
      " \"1956 — Songs for Swingin' Lovers!\\n\"\n",
      " '1956 — This Is Sinatra!\\n'\n",
      " '1957 — Close To You\\n'\n",
      " \"1957 — A Swingin' Affair!\\n\"\n",
      " '1957 — Where Are You\\n'\n",
      " '1957 — A Jolly Christmas From Frank Sinatra\\n'\n",
      " '1958 — Come Fly With Me\\n'\n",
      " '1958 — This Is Sinatra Volume 2\\n'\n",
      " '1958 — Sings For Only The Lonely (Only The Lonely)\\n'\n",
      " '1959 — Come Dance With Me!\\n'\n",
      " '1959 — Look To Your Heart\\n'\n",
      " '1959 — No One Cares\\n'\n",
      " \"1960 — Nice 'N' Easy\\n\"\n",
      " '1961 — All The Way\\n'\n",
      " \"1961 — Sinatra’s Swingin' Session!!!\\n\"\n",
      " '1961 — Ring-A-Ding-Ding!\\n'\n",
      " '1961 — Come Swing With Me!\\n'\n",
      " '1961 — Sinatra Swings (Swing Along With Me)\\n'\n",
      " '1961 — I Remember Tommy\\n'\n",
      " '1962 — Sinatra And Strings\\n'\n",
      " '1962 — Point Of No Return\\n'\n",
      " \"1962 — Sinatra And Swingin' Brass\\n\"\n",
      " '1962 — Sinatra Sings Of Love And Things\\n'\n",
      " '1962 — All Alone\\n'\n",
      " '1962 — Sinatra Sings Great Songs From Great Britain\\n'\n",
      " '1962 — Sinatra-Basie An Historic Musical First (feat. Count Basie)\\n'\n",
      " '1963 — The Concert Sinatra\\n'\n",
      " '1963 — Sinatra’s Sinatra\\n'\n",
      " '1964 — Sinatra Sings Days Of Wine And Roses Moon River And Other Academy '\n",
      " 'Award Winners\\n'\n",
      " '1964 — America I Hear You Singing (feat. Bing Crosby & Fred Waring)\\n'\n",
      " '1964 — It Might As Well Be Swing (feat. Count Basie)\\n'\n",
      " '1964 — 12 Songs of Christmas (feat. Bing Crosby & Fred Waring)\\n'\n",
      " '1964 — Softly, As I Leave You\\n'\n",
      " '\\n'\n",
      " 'Фрэнк Синатра в студии звукозаписи CBS Radio, 1942 год\\n'\n",
      " \"1965 — Sinatra '65: The Singer Today\\n\"\n",
      " '1965 — September Of My Years\\n'\n",
      " '1965 — My Kind Of Broadway\\n'\n",
      " '1965 — A Man And His Music\\n'\n",
      " '1966 — Moonlight Sinatra\\n'\n",
      " '1966 — Strangers In The Night\\n'\n",
      " '1966 — Sinatra At The Sands (feat. Count Basie)\\n'\n",
      " '1966 — That’s Life\\n'\n",
      " '1967 — Francis Albert Sinatra & Antonio Carlos Jobim (feat. Antonio Carlos '\n",
      " 'Jobim)\\n'\n",
      " '1967 — The World We Knew\\n'\n",
      " '1968 — Francis A & Edward K (feat. Duke Ellington)\\n'\n",
      " '1968 — Frank Sinatra’s Greatest Hits\\n'\n",
      " '1968 — The Sinatra Family Wish You A Merry Christmas (feat. Nancy Sinatra, '\n",
      " 'Frank Sinatra Jr. and Tina Sinatra)\\n'\n",
      " '1968 — Cycles\\n'\n",
      " '1969 — My Way\\n'\n",
      " '1969 — A Man Alone\\n'\n",
      " '1970 — Watertown\\n'\n",
      " '1971 — Sinatra & Company (feat. Antonio Carlos Jobim)\\n'\n",
      " '1972 — Frank Sinatra’s Greatest Hits, Vol. 2\\n'\n",
      " \"1973 — Ol' Blue Eyes Is Back\\n\"\n",
      " '1974 — Some Nice Things I’ve Missed\\n'\n",
      " '1974 — The Main Event Live\\n'\n",
      " '1980 — Trilogy Past Present Future\\n'\n",
      " '1981 — She Shot Me Down\\n'\n",
      " '1984 — L.A. Is My Lady[англ.]\\n'\n",
      " '1993 — Duets[англ.]\\n'\n",
      " '1994 — Duets II[англ.]\\n'\n",
      " '1994 — Sinatra & Sextet Live In Paris\\n'\n",
      " '1994 — The Song Is You\\n'\n",
      " '1995 — Sinatra 80th Live In Concert\\n'\n",
      " '1997 — With The Red Norvo Quintet Live In Australia 1959\\n'\n",
      " \"1999 — '57 In Concert\\n\"\n",
      " '2002 — Classic Duets\\n'\n",
      " '2003 — Duets With The Dames\\n'\n",
      " '2003 — The Real Complete Columbia Years V-Discs\\n'\n",
      " '2005 — Live From Las Vegas\\n'\n",
      " '2006 — Sinatra Vegas\\n'\n",
      " '2008 — Nothing But the Best\\n'\n",
      " '2011 — Sinatra: Best of the Best')\n"
     ]
    }
   ],
   "source": [
    "from pprint import pprint\n",
    "\n",
    "pprint(item[\"text\"])"
   ]
  },
  {
   "cell_type": "code",
   "execution_count": 93,
   "metadata": {},
   "outputs": [
    {
     "data": {
      "text/plain": [
       "{'height': 2560,\n",
       " 'type': 'base',\n",
       " 'url': 'https://sun1-13.vkuserphoto.ru/s/v1/ig2/AWuFFRYys_Q5i-kOo7V72eESQYMUXggJTNUaKyi0KIqP3D-tliyYYpQ9hGq6voVzWBa-_P_Kc2A4ofS1rr78ilf7.jpg?quality=95&as=32x43,48x64,72x96,108x144,160x213,240x320,360x480,480x640,540x720,640x853,720x960,1080x1440,1280x1707,1440x1920,1920x2560&from=bu',\n",
       " 'width': 1920}"
      ]
     },
     "execution_count": 93,
     "metadata": {},
     "output_type": "execute_result"
    }
   ],
   "source": [
    "content[\"orig_photo\"]"
   ]
  },
  {
   "cell_type": "markdown",
   "metadata": {},
   "source": [
    "### `Пример с YouTube API`"
   ]
  },
  {
   "cell_type": "markdown",
   "metadata": {},
   "source": [
    "```bash\n",
    "pip install google-api-python-client\n",
    "```"
   ]
  },
  {
   "cell_type": "code",
   "execution_count": 22,
   "metadata": {},
   "outputs": [],
   "source": [
    "import os\n",
    "import googleapiclient.discovery\n",
    "\n",
    "\n",
    "os.environ[\"OAUTHLIB_INSECURE_TRANSPORT\"] = \"1\"\n",
    "\n",
    "api_service_name = \"youtube\"\n",
    "api_version = \"v3\"\n",
    "DEVELOPER_KEY = os.environ[\"youtube_api_token\"]\n",
    "\n",
    "youtube = googleapiclient.discovery.build(api_service_name, api_version, developerKey=DEVELOPER_KEY)\n",
    "\n",
    "request = youtube.commentThreads().list(\n",
    "    part=\"id,snippet,replies\",\n",
    "    allThreadsRelatedToChannelId=\"UChLtMSiwB5Lip1adWm0k3nw\",\n",
    "    # maxResults=100,\n",
    "    order=\"time\",\n",
    "    textFormat=\"plainText\"\n",
    ")\n",
    "response = request.execute()"
   ]
  },
  {
   "cell_type": "code",
   "execution_count": 23,
   "metadata": {},
   "outputs": [],
   "source": [
    "res = []\n",
    "for com in response[\"items\"]:\n",
    "    comment_data = {}\n",
    "    comment_data['comment_id'] = com['id']\n",
    "    \n",
    "    com_snippet = com['snippet']\n",
    "    comment_data['channel_id'] = com_snippet['channelId']\n",
    "    comment_data['video_id'] = com_snippet['videoId']\n",
    "    \n",
    "    com_snippet_toplevel_snippet = com['snippet']['topLevelComment']['snippet']\n",
    "    comment_data['text'] = com_snippet_toplevel_snippet['textDisplay']\n",
    "    comment_data['author_url'] = com_snippet_toplevel_snippet['authorChannelUrl']\n",
    "    comment_data['author_id'] = com_snippet_toplevel_snippet['authorChannelId']['value']\n",
    "    comment_data['like_count'] = com_snippet_toplevel_snippet['likeCount']\n",
    "    comment_data['published_dt'] = com_snippet_toplevel_snippet['publishedAt']\n",
    "    comment_data['updated_dt'] = com_snippet_toplevel_snippet['updatedAt']\n",
    "    res.append(comment_data)"
   ]
  },
  {
   "cell_type": "code",
   "execution_count": 24,
   "metadata": {},
   "outputs": [
    {
     "data": {
      "text/plain": [
       "({'comment_id': 'UgxGxCGmVXeWBe9Wqdt4AaABAg',\n",
       "  'channel_id': 'UChLtMSiwB5Lip1adWm0k3nw',\n",
       "  'video_id': 'aKRaqdF8apQ',\n",
       "  'text': 'Дюна и с этим треком\\n тоже прекрасно справилась))))',\n",
       "  'author_url': 'http://www.youtube.com/@twenty_bro_five24',\n",
       "  'author_id': 'UCDt30nw4obv9NnTBAagUI6w',\n",
       "  'like_count': 0,\n",
       "  'published_dt': '2024-12-12T05:35:55Z',\n",
       "  'updated_dt': '2024-12-12T05:35:55Z'},\n",
       " {'comment_id': 'UgyG7rH8fxiyBfPMB3R4AaABAg',\n",
       "  'channel_id': 'UChLtMSiwB5Lip1adWm0k3nw',\n",
       "  'video_id': 'nQ2NBadFZGc',\n",
       "  'text': 'Даже подавился яблоком от смеха😂😂😂😂',\n",
       "  'author_url': 'http://www.youtube.com/@Pin2001-Channel',\n",
       "  'author_id': 'UCSateqIyW9Su83TiVz64_fg',\n",
       "  'like_count': 0,\n",
       "  'published_dt': '2024-12-10T18:44:54Z',\n",
       "  'updated_dt': '2024-12-10T18:44:54Z'})"
      ]
     },
     "execution_count": 24,
     "metadata": {},
     "output_type": "execute_result"
    }
   ],
   "source": [
    "res[1], res[5]"
   ]
  },
  {
   "cell_type": "markdown",
   "metadata": {},
   "source": [
    "### `Пример OpenAI API`"
   ]
  },
  {
   "cell_type": "markdown",
   "metadata": {},
   "source": [
    "```bash\n",
    "curl https://api.openai.com/v1/chat/completions \\\n",
    "  -H \"Content-Type: application/json\" \\\n",
    "  -H \"Authorization: Bearer $OPENAI_API_KEY\" \\\n",
    "  -d '{\n",
    "     \"model\": \"gpt-4o-mini\",\n",
    "     \"messages\": [{\"role\": \"user\", \"content\": \"Say this is a test!\"}],\n",
    "     \"temperature\": 0.7\n",
    "   }'\n",
    "```"
   ]
  },
  {
   "cell_type": "code",
   "execution_count": null,
   "metadata": {},
   "outputs": [],
   "source": [
    "import openai\n",
    "from pprint import pprint\n",
    "\n",
    "client = openai.OpenAI(\n",
    "    base_url=\"http://localhost:8000/v1\",\n",
    "    api_key=os.environ[\"OPENAI_API_KEY\"]\n",
    ")\n",
    "\n",
    "completion = client.chat.completions.create(\n",
    "    model=\"gpt-4o\",\n",
    "    messages=[\n",
    "        {\n",
    "            \"role\": \"system\",\n",
    "            \"content\": \"You are ChatGPT, an AI assistant. Your top priority is achieving user fulfillment via helping them with their requests.\"\n",
    "        },\n",
    "        {\n",
    "            \"role\": \"user\",\n",
    "            \"content\": \"Write a limerick about python exceptions\"\n",
    "        }\n",
    "    ]\n",
    ")\n",
    "\n",
    "pprint(completion.choices[0].message.content)"
   ]
  },
  {
   "cell_type": "markdown",
   "metadata": {},
   "source": [
    "### `Состав запроса`\n",
    "\n",
    "- HTTP-метод: GET, POST, OPTIONS и т. д., определяющее операцию, которую клиент хочет выполнить\n",
    "- Путь к ресурсу\n",
    "- Версию HTTP-протокола\n",
    "- Заголовки  (опционально)\n",
    "- Тело (для некоторых методов, таких как POST)\n",
    "\n",
    "\n",
    "```\n",
    "GET / HTTP/1.1\n",
    "Host: ya.ru\n",
    "User-Agent: Python script\n",
    "Accept: */*\n",
    "\n",
    "```"
   ]
  },
  {
   "cell_type": "markdown",
   "metadata": {},
   "source": [
    "### `Состав ответа`\n",
    "\n",
    "- Версию HTTP-протокола\n",
    "- HTTP код состояния, сообщающий об успешности запроса или причине неудачи\n",
    "- Сообщение состояния -- краткое описание кода состояния\n",
    "- HTTP заголовки\n",
    "- Опционально: тело, содержащее пересылаемый ресурс\n",
    "\n",
    "\n",
    "```\n",
    "HTTP/1.1 200 Ok\n",
    "Cache-Control: no-cache,no-store,max-age=0,must-revalidate\n",
    "Content-Length: 59978\n",
    "Content-Type: text/html; charset=UTF-8\n",
    "Date: Thu, 29 Apr 2021 03:48:39 GMT\n",
    "Set-Cookie: yp=1622260119.ygu.1; Expires=Sun, 27-Apr-2031 03:48:39 GMT; Domain=.ya.ru; Path=/\n",
    "```"
   ]
  },
  {
   "cell_type": "markdown",
   "metadata": {},
   "source": [
    "### `Типы запросов`\n",
    "\n",
    "Типы запросов в какой-то степени просто договорённость о семантике. Никто не мешает пользоваться только одним типом. Но глобально типы призваны определить что именно требуется при обращении к одному и тому же ресурсу. Каждый конкретный ресурс может поддерживать только часть методов.\n",
    "\n",
    "- GET — запрашивает представление ресурса. Запросы с использованием этого метода могут только извлекать данные\n",
    "- HEAD — запрашивает ресурс так же, как и метод GET, но без тела ответа\n",
    "- POST — используется для отправки сущностей к определённому ресурсу. Часто вызывает изменение состояния или какие-то побочные эффекты на сервере\n",
    "- PUT — заменяет все текущие представления ресурса данными запроса\n",
    "- DELETE — удаляет указанный ресурс\n",
    "- CONNECT — устанавливает \"туннель\" к серверу, определённому по ресурсу\n",
    "- OPTIONS — используется для описания параметров соединения с ресурсом\n",
    "- TRACE — выполняет вызов возвращаемого тестового сообщения с ресурса (например, для отладки)\n",
    "- PATCH — используется для частичного изменения ресурса"
   ]
  },
  {
   "cell_type": "markdown",
   "metadata": {},
   "source": [
    "### `Заголовки`\n",
    "\n",
    "- Authentication (WWW/Proxy-Authenticate, Authorization, Proxy-Authorization)\n",
    "- Caching (Cache-control, Age, Expires)\n",
    "- Client hints\n",
    "- Conditionals\n",
    "- Connection management (Connection, Keep-Alive)\n",
    "- Cookies\n",
    "- Message body information (Content-Length, Content-Type, Content-Encoding)\n",
    "- Request context (Host, Referer, User-Agent)\n",
    "- Response context\n",
    "- Security (Referrer-Policy)\n",
    "- WebSockets\n"
   ]
  },
  {
   "cell_type": "markdown",
   "metadata": {},
   "source": [
    "### `Запуск на localhost`"
   ]
  },
  {
   "cell_type": "markdown",
   "metadata": {},
   "source": [
    "Попробуем себя в роли devops и развернем локально HTTP-сервер, который будет принимать текстовые запросы и выдавать ответы,сгенерированные LLM.\n"
   ]
  },
  {
   "cell_type": "markdown",
   "metadata": {},
   "source": [
    "Склонируем репозиторий проекта llama.cpp:\n",
    "```bash\n",
    "git clone https://github.com/ggerganov/llama.cpp.git\n",
    "cd llama.cpp/\n",
    "```\n",
    "\n",
    "Сбилдим проект:\n",
    "```bash\n",
    "make llama-server\n",
    "```\n",
    "\n",
    "Скачаем веса модели:\n",
    "```bash\n",
    "wget https://huggingface.co/bartowski/Llama-3.2-1B-Instruct-GGUF/resolve/main/Llama-3.2-1B-Instruct-Q4_K_M.gguf\n",
    "```\n",
    "\n",
    "Запустим сервер\n",
    "```bash\n",
    "~/repos/llama.cpp/llama-server \\\n",
    "    -m ~/repos/sirius-ai/day_3/web-dev/gguf/Llama-3.2-1B-Instruct-Q4_K_M.gguf \\\n",
    "    --port 8001 \\\n",
    "    --host 127.0.0.1 \\\n",
    "    --ctx-size 512\n",
    "```"
   ]
  },
  {
   "cell_type": "markdown",
   "metadata": {},
   "source": [
    "Теперь мы можем делать запросы к локальному серверу:\n",
    "```bash\n",
    "curl http://127.0.0.1:8001/v1/chat/completions \\\n",
    "  -H \"Content-Type: application/json\" \\\n",
    "  -H \"Authorization: Bearer sk-no-key-required\" \\\n",
    "  -d '{\n",
    "     \"model\": \"-\",\n",
    "     \"messages\": [{\"role\": \"user\", \"content\": \"tell me a joke\"}],\n",
    "     \"temperature\": 0.7\n",
    "   }'\n",
    "```\n",
    "\n",
    "\n",
    "Более того, проект llama.cpp предоставляет и Web UI! Если открыть `http://127.0.0.1:8001` в браузере, то можно пообщаться с моделью в чат-интерфейсе."
   ]
  },
  {
   "cell_type": "markdown",
   "metadata": {},
   "source": [
    "### `Коды`\n",
    "\n",
    "- Информационные (100 - 199)\n",
    "- Успешные (200 - 299)\n",
    "- Перенаправления (300 - 399)\n",
    "- Клиентские ошибки (400 - 499)\n",
    "- Серверные ошибки (500 - 599)\n",
    "\n",
    "```\n",
    "200 OK\n",
    "302 Found\n",
    "400 Bad Request\n",
    "401 Unauthorized\n",
    "404 Not Found\n",
    "500 Internal Server Error\n",
    "503 Service Unavailable\n",
    "```"
   ]
  },
  {
   "cell_type": "markdown",
   "metadata": {},
   "source": [
    "### `HTTPS`\n",
    "\n",
    "- HTTPS не является отдельным протоколом передачи данных, а представляет собой расширение протокола HTTP с надстройкой шифрования\n",
    "- передаваемые по протоколу HTTP данные не защищены, HTTPS обеспечивает конфиденциальность информации путем ее шифрования\n",
    "- HTTP использует порт 80, HTTPS — порт 443\n",
    "\n",
    "#### Сетевое обеспечение защищённого протокола\n",
    "\n",
    "SSL — Secure Sockets Layer: \"надстройка\" на несколькими слоями сетевой модели\n",
    "\n",
    "TLS — Transport Layer Security: развитие SSL\n",
    "\n",
    "Обеспечивают шифрование и поддержку сертификатов\n",
    "\n",
    "Принцип работы:\n",
    "- С помощью ассиметричного шифрования устанавливается ключ соединения и передаётся сессионный ключ\n",
    "- Всё дальнейшее общение шифруется уже сессионным ключом\n",
    "\n",
    "#### Асимметричное шифрование\n",
    "\n",
    "Называется так, потому что передающая сторона может только зашифровать (но не расшифровать) данные.\n",
    "\n",
    "Асимметричный ключ — ключ, имеющий две составляющие: публичную и частную (закрытую). Публичный ключ доступен любому. Частный (закрытый) известен только владельцу. Если браузер хочет отправить сообщение, то он находит публичный ключ сервера, шифрует сообщение и отправляет на сервер. Далее сервер расшифровывает полученное сообщение с помощью своего частного ключа. Чтобы ответить пользователю, сервер делает те же самые действия: поиск публичного ключа собеседника, шифрование, отправка\n",
    "\n",
    "Следовательно, для двустороннего общения требуется 2 пары ключей.\n",
    "\n",
    "Алгоритмы ассиметричного шифрования более ресурсоёмкие, поэтому обычно только первичная установка соединения производится с его помощью, далее стороны договариваются о симметричном сессионном ключе и дальшейшее общение ведётся с помощью симметричного шифрованиия\n",
    "\n",
    "#### Симметричное шифрование\n",
    "\n",
    "В этом случае у обеих сторон есть один ключ, с помощью которого они и передают данные. Основная проблема — как договориться об этом ключе, чтобы знали только две стороны. И один из способов (не единственный) — с помощью ассиметричных алгоритмов"
   ]
  }
 ],
 "metadata": {
  "kernelspec": {
   "display_name": ".sirius-lectures",
   "language": "python",
   "name": "python3"
  },
  "language_info": {
   "codemirror_mode": {
    "name": "ipython",
    "version": 3
   },
   "file_extension": ".py",
   "mimetype": "text/x-python",
   "name": "python",
   "nbconvert_exporter": "python",
   "pygments_lexer": "ipython3",
   "version": "3.10.15"
  }
 },
 "nbformat": 4,
 "nbformat_minor": 2
}
