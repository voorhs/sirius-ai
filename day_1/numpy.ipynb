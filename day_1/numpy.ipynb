{
 "cells": [
  {
   "cell_type": "markdown",
   "metadata": {
    "id": "mZOzGHuPwr4v"
   },
   "source": [
    "## `Занятие 1.2: Основы Pytorch`\n",
    "\n",
    "#### `Сириус, смена \"Алгоритмы и анализ данных\" 2024`"
   ]
  },
  {
   "cell_type": "markdown",
   "metadata": {
    "id": "GaGh9SZ_wr4w"
   },
   "source": [
    "О чём можно узнать из этого ноутбука:\n",
    "\n",
    "* операции при работе с массивами\n",
    "* многомерные массивы\n",
    "* изменение размеров массивов\n",
    "* broadcasting\n",
    "* продвинутая индексация\n",
    "* view и копирование\n",
    "* свёртка\n",
    "* разные прикладные задачи"
   ]
  },
  {
   "cell_type": "code",
   "execution_count": 1,
   "metadata": {
    "ExecuteTime": {
     "end_time": "2022-09-22T08:00:48.254252Z",
     "start_time": "2022-09-22T08:00:48.244253Z"
    },
    "id": "Uw8BOvbawr4x"
   },
   "outputs": [],
   "source": [
    "import warnings\n",
    "warnings.filterwarnings('ignore')"
   ]
  },
  {
   "cell_type": "markdown",
   "metadata": {
    "id": "_vWCVV6Swr4x"
   },
   "source": [
    "### `Представление матрицы в Python`\n",
    "\n",
    "Простейший вариант - список списков:"
   ]
  },
  {
   "cell_type": "code",
   "execution_count": 2,
   "metadata": {
    "ExecuteTime": {
     "end_time": "2022-09-22T08:00:48.538438Z",
     "start_time": "2022-09-22T08:00:48.524440Z"
    },
    "colab": {
     "base_uri": "https://localhost:8080/"
    },
    "id": "GVZ23sY-wr4x",
    "outputId": "522cc700-cf56-4efb-b4a4-55ba021694fa"
   },
   "outputs": [
    {
     "name": "stdout",
     "output_type": "stream",
     "text": [
      "[1, 2, 3]\n",
      "[4, 5, 6]\n",
      "[7, 8, 9]\n",
      "\n",
      "[1, 0, 0]\n",
      "[0, 2, 0]\n",
      "[0, 0, 3]\n",
      "\n"
     ]
    }
   ],
   "source": [
    "A = [\n",
    "    [1, 2, 3],\n",
    "    [4, 5, 6],\n",
    "    [7, 8, 9],\n",
    "]\n",
    "\n",
    "B = [\n",
    "    [1, 0, 0],\n",
    "    [0, 2, 0],\n",
    "    [0, 0, 3],\n",
    "]\n",
    "\n",
    "def print_matrix(A):\n",
    "    for row in A:\n",
    "        print(row)\n",
    "    print()\n",
    "\n",
    "print_matrix(A)\n",
    "print_matrix(B)"
   ]
  },
  {
   "cell_type": "markdown",
   "metadata": {
    "id": "8FB9MFXOwr4z"
   },
   "source": [
    "### `Представление матрицы в Python`"
   ]
  },
  {
   "cell_type": "markdown",
   "metadata": {
    "id": "e2Jit5kAwr4z"
   },
   "source": [
    "Одна из проблем списков — отсутствие поэлементных и матричных операций.\n",
    "\n",
    "Другой недостаток — работа со списками не позволяет использовать векторные инструкции в процессоре, которые на порядки ускоряют матричные вычисления"
   ]
  },
  {
   "cell_type": "markdown",
   "metadata": {
    "id": "ojyJOPxNwr4z"
   },
   "source": [
    "Попробуем самостоятельно реализовать несколько методов для матричных вычислений, работающих с представлением матриц в виде списков.\n",
    "\n",
    "Для оценки производительности будем использовать *декооратор* `timed`:"
   ]
  },
  {
   "cell_type": "code",
   "execution_count": 4,
   "metadata": {
    "ExecuteTime": {
     "end_time": "2022-09-22T08:00:50.167484Z",
     "start_time": "2022-09-22T08:00:50.156486Z"
    },
    "id": "HTk6t_kCwr4z"
   },
   "outputs": [],
   "source": [
    "from time import perf_counter\n",
    "\n",
    "def timed(method):\n",
    "    def __timed(*args, **kw):\n",
    "        time_start = perf_cointer()\n",
    "        result = method(*args, **kw)\n",
    "        time_end = perf_cointer()\n",
    "        print('{}  {:.3f} ms\\n'.format(method.__name__,\n",
    "                                      (time_end - time_start) * 1000))\n",
    "        return result\n",
    "\n",
    "    return __timed"
   ]
  },
  {
   "cell_type": "markdown",
   "metadata": {
    "id": "gdqjbjMowr4z"
   },
   "source": [
    "### `Опишем базовые операции: транспонирование`"
   ]
  },
  {
   "cell_type": "markdown",
   "metadata": {},
   "source": [
    "Для матрицы $A\\in\\text{Mat}(m\\times n)$:\n",
    "$$\n",
    "C_{ij} := A_{ji}\n",
    "$$"
   ]
  },
  {
   "cell_type": "code",
   "execution_count": null,
   "metadata": {},
   "outputs": [],
   "source": [
    "@timed\n",
    "def matrix_transpose(A):\n",
    "    # your code here\n",
    "    ...\n",
    "\n",
    "print_matrix(matrix_transpose(A))"
   ]
  },
  {
   "cell_type": "markdown",
   "metadata": {
    "id": "473o8z9Cwr4z"
   },
   "source": [
    "### `Опишем базовые операции: сложение`"
   ]
  },
  {
   "cell_type": "markdown",
   "metadata": {},
   "source": [
    "Для матриц одинакового размера $A,B\\in\\text{Mat}(m\\times n)$:\n",
    "\n",
    "$$\n",
    "C_{ij}:=A_{ij}+B_{ij}\n",
    "$$"
   ]
  },
  {
   "cell_type": "code",
   "execution_count": null,
   "metadata": {
    "ExecuteTime": {
     "end_time": "2022-09-22T08:00:50.494747Z",
     "start_time": "2022-09-22T08:00:50.484748Z"
    },
    "colab": {
     "base_uri": "https://localhost:8080/"
    },
    "id": "3cncedaAwr4z",
    "outputId": "c65c76ed-d108-4ad0-fdf2-0b57c16f1e61"
   },
   "outputs": [
    {
     "name": "stdout",
     "output_type": "stream",
     "text": [
      "matrix_add  0.013 ms\n",
      "\n",
      "[2, 2, 3]\n",
      "[4, 7, 6]\n",
      "[7, 8, 12]\n",
      "\n"
     ]
    }
   ],
   "source": [
    "@timed\n",
    "def matrix_add(A, B):\n",
    "    # skip correctness of dimensions check\n",
    "\n",
    "    n, m = len(A), len(A[0])\n",
    "    C = [[0.0 for _ in range(m)] for _ in range(n)]\n",
    "\n",
    "    for i in range(n):\n",
    "        for j in range(m):\n",
    "            C[i][j] = A[i][j] + B[i][j]\n",
    "    return C\n",
    "\n",
    "print_matrix(matrix_add(A, B))"
   ]
  },
  {
   "cell_type": "markdown",
   "metadata": {
    "id": "xowumGI7wr40"
   },
   "source": [
    "### `Опишем базовые операции: умножение`"
   ]
  },
  {
   "cell_type": "markdown",
   "metadata": {},
   "source": [
    "Для матрицы $A\\in\\text{Mat}(m\\times n)$, $B\\in\\text{Mat}(n\\times m)$:\n",
    "$$\n",
    "C_{ij}=\\sum_{r=1}^n A_{ir}B_{rj}\n",
    "$$\n",
    "\n",
    "Анимированный пример:\n",
    "\n",
    "![](sem_1_assets/matrix-multiplication.gif)"
   ]
  },
  {
   "cell_type": "code",
   "execution_count": 9,
   "metadata": {
    "ExecuteTime": {
     "end_time": "2022-09-22T08:00:51.093622Z",
     "start_time": "2022-09-22T08:00:51.084622Z"
    },
    "colab": {
     "base_uri": "https://localhost:8080/"
    },
    "id": "EQBK4OQEwr40",
    "outputId": "13bedaa6-0c7d-4ae4-b9a4-a765e02ddb2a"
   },
   "outputs": [
    {
     "name": "stdout",
     "output_type": "stream",
     "text": [
      "matrix_transpose  0.009 ms\n",
      "\n",
      "matrix_mul  1.176 ms\n",
      "\n",
      "[1, 4, 9]\n",
      "[4, 10, 18]\n",
      "[7, 16, 27]\n",
      "\n"
     ]
    }
   ],
   "source": [
    "def dot(a, b):\n",
    "    return sum(x * y for (x, y) in zip(a, b))\n",
    "\n",
    "@timed\n",
    "def matrix_mul(A, B):\n",
    "    # check correctness of dimensions\n",
    "    n, m = len(A), len(B[0])\n",
    "    C = [[0.0 for _ in range(n)] for _ in range(m)]\n",
    "\n",
    "    B_T = matrix_transpose(B)\n",
    "    for i in range(n):\n",
    "        for j in range(m):\n",
    "            C[i][j] = dot(A[i], B_T[j])\n",
    "    return C\n",
    "\n",
    "print_matrix(matrix_mul(A, B))"
   ]
  },
  {
   "cell_type": "markdown",
   "metadata": {
    "id": "hESzT5BAwr40"
   },
   "source": [
    "### `Библиотека PyTorch`\n",
    "\n",
    "- Позволяет работать с многомерными массивами (**тензорами**)\n",
    "- Реализует множество базовых матричных операций\n",
    "- Работает на порядки быстрее самописных реализаций в Python"
   ]
  },
  {
   "cell_type": "code",
   "execution_count": null,
   "metadata": {
    "ExecuteTime": {
     "end_time": "2022-09-22T08:00:51.493514Z",
     "start_time": "2022-09-22T08:00:51.428515Z"
    },
    "id": "yhd52Fo5wr40"
   },
   "outputs": [],
   "source": [
    "import torch"
   ]
  },
  {
   "cell_type": "markdown",
   "metadata": {
    "id": "fXJ5nrGfwr40"
   },
   "source": [
    "### `Почему torch быстрый`\n",
    "\n",
    "- Значительная часть кода написана на C++ и CUDA\n",
    "\n",
    "- Базовым классом является `Tensor`, имеющий следующие отличия от списков:\n",
    "    1. Имеет фиксированную длину, задаваемую в момент его создания (списки в Python могут менять размер динамически)\n",
    "    2. Все элементы в NumPy array имеют один тип\n",
    "- PyTorch поддерживает ускорение с помощью GPU, что позволяет использовать возможности параллельной обработки. Это может привести к ускорению обучения и использования моделей глубокого обучения на порядок\n",
    "- И миллион других причин\n"
   ]
  },
  {
   "cell_type": "markdown",
   "metadata": {
    "id": "uSZUFyR0wr40"
   },
   "source": [
    "### `Способы создания torch.Tensor`\n",
    "\n",
    "1. Из списка списков\n",
    "2. Пустой\n",
    "3. Заполненный нулями\n",
    "4. Заполненный единицами\n",
    "5. Заполненный нужным значением"
   ]
  },
  {
   "cell_type": "code",
   "execution_count": null,
   "metadata": {},
   "outputs": [],
   "source": [
    "print(torch.tensor([[1, 2, 3], [4, 5, 6]]))"
   ]
  },
  {
   "cell_type": "code",
   "execution_count": null,
   "metadata": {
    "ExecuteTime": {
     "end_time": "2022-09-22T08:00:52.259961Z",
     "start_time": "2022-09-22T08:00:52.252963Z"
    },
    "colab": {
     "base_uri": "https://localhost:8080/"
    },
    "id": "1fR_01Yywr40",
    "outputId": "6fffa68b-4b5f-46fe-a36f-847225f94aa5"
   },
   "outputs": [
    {
     "name": "stdout",
     "output_type": "stream",
     "text": [
      "[[4.89521082e-310 0.00000000e+000 2.05833592e-312]\n",
      " [6.79038654e-313 2.14321575e-312 2.27053550e-312]]\n"
     ]
    }
   ],
   "source": [
    "print(torch.empty(shape=[2, 3]))  # values are arbitrary"
   ]
  },
  {
   "cell_type": "code",
   "execution_count": null,
   "metadata": {
    "ExecuteTime": {
     "end_time": "2022-09-22T08:00:52.445821Z",
     "start_time": "2022-09-22T08:00:52.436823Z"
    },
    "colab": {
     "base_uri": "https://localhost:8080/"
    },
    "id": "9SOJ_CG2wr40",
    "outputId": "13b8f4c8-7b95-455d-b6f4-e00bd86a7b08"
   },
   "outputs": [
    {
     "name": "stdout",
     "output_type": "stream",
     "text": [
      "[[0. 0. 0.]\n",
      " [0. 0. 0.]]\n"
     ]
    }
   ],
   "source": [
    "print(torch.zeros([2, 3]))"
   ]
  },
  {
   "cell_type": "code",
   "execution_count": null,
   "metadata": {
    "ExecuteTime": {
     "end_time": "2022-09-22T08:00:52.637411Z",
     "start_time": "2022-09-22T08:00:52.620413Z"
    },
    "colab": {
     "base_uri": "https://localhost:8080/"
    },
    "id": "PfwcgUEzwr41",
    "outputId": "a46cd75d-1f47-4269-f273-8c61548a5032"
   },
   "outputs": [
    {
     "name": "stdout",
     "output_type": "stream",
     "text": [
      "[[1. 1. 1.]\n",
      " [1. 1. 1.]]\n"
     ]
    }
   ],
   "source": [
    "print(torch.ones([2, 3]))"
   ]
  },
  {
   "cell_type": "code",
   "execution_count": null,
   "metadata": {
    "ExecuteTime": {
     "end_time": "2022-09-22T08:00:52.811524Z",
     "start_time": "2022-09-22T08:00:52.796522Z"
    },
    "colab": {
     "base_uri": "https://localhost:8080/"
    },
    "id": "A-9ZRE2cwr41",
    "outputId": "2a025ab5-888f-4ae8-cf69-986a0a92215f"
   },
   "outputs": [
    {
     "name": "stdout",
     "output_type": "stream",
     "text": [
      "[[3. 3. 3.]\n",
      " [3. 3. 3.]]\n"
     ]
    }
   ],
   "source": [
    "print(torch.full([2, 3], 3.0))"
   ]
  },
  {
   "cell_type": "markdown",
   "metadata": {
    "id": "kjDsvKhmwr4_"
   },
   "source": [
    "Некорректные входные данные приведут к ошибке:"
   ]
  },
  {
   "cell_type": "code",
   "execution_count": null,
   "metadata": {
    "ExecuteTime": {
     "end_time": "2022-09-22T08:00:55.940391Z",
     "start_time": "2022-09-22T08:00:55.924393Z"
    },
    "colab": {
     "base_uri": "https://localhost:8080/",
     "height": 201
    },
    "id": "wbGe0lAxwr4_",
    "outputId": "1a05efdd-58f6-450e-c57d-1d8542920a84"
   },
   "outputs": [
    {
     "ename": "ValueError",
     "evalue": "ignored",
     "output_type": "error",
     "traceback": [
      "\u001b[0;31m---------------------------------------------------------------------------\u001b[0m",
      "\u001b[0;31mValueError\u001b[0m                                Traceback (most recent call last)",
      "\u001b[0;32m<ipython-input-32-f29d5103418c>\u001b[0m in \u001b[0;36m<cell line: 1>\u001b[0;34m()\u001b[0m\n\u001b[0;32m----> 1\u001b[0;31m \u001b[0mnp\u001b[0m\u001b[0;34m.\u001b[0m\u001b[0marray\u001b[0m\u001b[0;34m(\u001b[0m\u001b[0;34m[\u001b[0m\u001b[0;34m[\u001b[0m\u001b[0;36m1\u001b[0m\u001b[0;34m,\u001b[0m \u001b[0;36m2\u001b[0m\u001b[0;34m,\u001b[0m \u001b[0;36m3\u001b[0m\u001b[0;34m]\u001b[0m\u001b[0;34m,\u001b[0m \u001b[0;34m[\u001b[0m\u001b[0;36m4\u001b[0m\u001b[0;34m,\u001b[0m \u001b[0;36m6\u001b[0m\u001b[0;34m]\u001b[0m\u001b[0;34m]\u001b[0m\u001b[0;34m,\u001b[0m \u001b[0mdtype\u001b[0m\u001b[0;34m=\u001b[0m\u001b[0mnp\u001b[0m\u001b[0;34m.\u001b[0m\u001b[0mfloat32\u001b[0m\u001b[0;34m)\u001b[0m\u001b[0;34m\u001b[0m\u001b[0;34m\u001b[0m\u001b[0m\n\u001b[0m",
      "\u001b[0;31mValueError\u001b[0m: setting an array element with a sequence. The requested array has an inhomogeneous shape after 1 dimensions. The detected shape was (2,) + inhomogeneous part."
     ]
    }
   ],
   "source": [
    "torch.tensor([[1, 2, 3], [4, 6]])"
   ]
  },
  {
   "cell_type": "code",
   "execution_count": null,
   "metadata": {
    "ExecuteTime": {
     "end_time": "2022-09-22T08:00:56.462636Z",
     "start_time": "2022-09-22T08:00:56.444636Z"
    },
    "colab": {
     "base_uri": "https://localhost:8080/"
    },
    "id": "gfIvNgVfwr5A",
    "outputId": "b597f4b0-7fc8-42f9-a5f7-5d9d1a9aa6e2"
   },
   "outputs": [
    {
     "data": {
      "text/plain": [
       "array([2, 3, 4, 5, 6, 7, 8, 9])"
      ]
     },
     "execution_count": 33,
     "metadata": {},
     "output_type": "execute_result"
    }
   ],
   "source": [
    "# Синтаксис аналогичен функции `range`\n",
    "torch.arange(2, 10)"
   ]
  },
  {
   "cell_type": "markdown",
   "metadata": {
    "id": "PtdBWt4ewr5A"
   },
   "source": [
    "### `Способы создания torch.Tensor`"
   ]
  },
  {
   "cell_type": "markdown",
   "metadata": {
    "id": "I9yvPc7Pwr5A"
   },
   "source": [
    "<font color='brown'>**Задача 2.** Задайте массив `result` размером $50$ на $30$, состоящий из троек:</font>"
   ]
  },
  {
   "cell_type": "code",
   "execution_count": 156,
   "metadata": {
    "ExecuteTime": {
     "end_time": "2022-09-22T08:00:57.341436Z",
     "start_time": "2022-09-22T08:00:57.333435Z"
    },
    "id": "MPyhcybPwr5A"
   },
   "outputs": [],
   "source": [
    "### your code here"
   ]
  },
  {
   "cell_type": "markdown",
   "metadata": {
    "ExecuteTime": {
     "end_time": "2022-09-22T06:50:02.269559Z",
     "start_time": "2022-09-22T06:50:02.253560Z"
    },
    "id": "xQR34U0Twr5A"
   },
   "source": [
    "<font color='brown'>**Задача 3.** Какая размерность будет у массива, полученного с помощью команды `np.array([[1], [2]])`?</font>"
   ]
  },
  {
   "cell_type": "code",
   "execution_count": 155,
   "metadata": {
    "ExecuteTime": {
     "end_time": "2022-09-22T08:00:57.737381Z",
     "start_time": "2022-09-22T08:00:57.732381Z"
    },
    "id": "oyC6xj-awr5A"
   },
   "outputs": [],
   "source": [
    "### your answer here"
   ]
  },
  {
   "cell_type": "markdown",
   "metadata": {
    "id": "FV_fLkBVwr5D"
   },
   "source": [
    "### `Арифметические операции`\n",
    "\n",
    "- Арифметические операции в общем случае по-элементные и требуют одинакового размера операндов<br>\n",
    "\n",
    "- Но часто NumPy может применять их к операндам разного размера с помощью broadcasting, то есть правил обработки операндов разного размера<br><br>\n",
    "\n",
    "Примеры операций с массивами одного размера:"
   ]
  },
  {
   "cell_type": "code",
   "execution_count": null,
   "metadata": {
    "ExecuteTime": {
     "end_time": "2022-09-22T08:01:07.483335Z",
     "start_time": "2022-09-22T08:01:07.468336Z"
    },
    "colab": {
     "base_uri": "https://localhost:8080/"
    },
    "id": "Lf_4cys_wr5E",
    "outputId": "3371a858-2883-4ec6-b313-337d92f56195"
   },
   "outputs": [
    {
     "name": "stdout",
     "output_type": "stream",
     "text": [
      "[[1 2 3]\n",
      " [4 5 6]\n",
      " [7 8 9]] \n",
      "\n",
      " [[1 0 0]\n",
      " [0 2 0]\n",
      " [0 0 3]] \n",
      "\n",
      " [[ 2  4  6]\n",
      " [ 8 10 12]\n",
      " [14 16 18]] \n",
      "\n",
      " [[ 2  2  3]\n",
      " [ 4  7  6]\n",
      " [ 7  8 12]]\n"
     ]
    }
   ],
   "source": [
    "A, B = torch.array(A), torch.array(B)  # were declared previously\n",
    "\n",
    "print(A, '\\n\\n', B, '\\n\\n', 2 * A, '\\n\\n', A + B)"
   ]
  },
  {
   "cell_type": "markdown",
   "metadata": {
    "id": "T5Wamqumwr5E"
   },
   "source": [
    "### `Поэлементные арифметические операции`"
   ]
  },
  {
   "cell_type": "code",
   "execution_count": null,
   "metadata": {
    "ExecuteTime": {
     "end_time": "2022-09-22T08:01:07.881483Z",
     "start_time": "2022-09-22T08:01:07.868481Z"
    },
    "colab": {
     "base_uri": "https://localhost:8080/"
    },
    "id": "NLuiSggUwr5E",
    "outputId": "2dc78bf3-1d24-456f-a490-1a990eccf001"
   },
   "outputs": [
    {
     "data": {
      "text/plain": [
       "array([[ 0.84147098,  0.90929743,  0.14112001],\n",
       "       [-0.7568025 , -0.95892427, -0.2794155 ],\n",
       "       [ 0.6569866 ,  0.98935825,  0.41211849]])"
      ]
     },
     "execution_count": 30,
     "metadata": {},
     "output_type": "execute_result"
    }
   ],
   "source": [
    "torch.sin(A)"
   ]
  },
  {
   "cell_type": "code",
   "execution_count": null,
   "metadata": {
    "ExecuteTime": {
     "end_time": "2022-09-22T08:01:08.099286Z",
     "start_time": "2022-09-22T08:01:08.093285Z"
    },
    "colab": {
     "base_uri": "https://localhost:8080/"
    },
    "id": "Cb--ILeOwr5E",
    "outputId": "f05584a2-2d86-41cb-ddfa-91e50369fd37"
   },
   "outputs": [
    {
     "data": {
      "text/plain": [
       "array([[1, 2, 3],\n",
       "       [4, 5, 6],\n",
       "       [7, 8, 9]])"
      ]
     },
     "execution_count": 31,
     "metadata": {},
     "output_type": "execute_result"
    }
   ],
   "source": [
    "torch.abs(A)"
   ]
  },
  {
   "cell_type": "code",
   "execution_count": 32,
   "metadata": {
    "ExecuteTime": {
     "end_time": "2022-09-22T08:01:08.303328Z",
     "start_time": "2022-09-22T08:01:08.293329Z"
    },
    "colab": {
     "base_uri": "https://localhost:8080/"
    },
    "id": "AbdIrzASwr5E",
    "outputId": "b50dad68-74a1-474d-edfe-a1239b6462c4"
   },
   "outputs": [
    {
     "data": {
      "text/plain": [
       "array([[1.        , 1.41421356, 1.73205081],\n",
       "       [2.        , 2.23606798, 2.44948974],\n",
       "       [2.64575131, 2.82842712, 3.        ]])"
      ]
     },
     "execution_count": 32,
     "metadata": {},
     "output_type": "execute_result"
    }
   ],
   "source": [
    "A ** 0.5"
   ]
  },
  {
   "cell_type": "markdown",
   "metadata": {
    "ExecuteTime": {
     "end_time": "2022-09-22T07:19:36.696313Z",
     "start_time": "2022-09-22T07:19:36.683314Z"
    },
    "id": "JnHmtvFBwr5E"
   },
   "source": [
    "Поэлементые операции сравнения:"
   ]
  },
  {
   "cell_type": "code",
   "execution_count": 33,
   "metadata": {
    "ExecuteTime": {
     "end_time": "2022-09-22T08:01:08.696455Z",
     "start_time": "2022-09-22T08:01:08.678456Z"
    },
    "colab": {
     "base_uri": "https://localhost:8080/"
    },
    "id": "59RrLNAMwr5E",
    "outputId": "e9c076fa-0b65-4eea-fc2c-eb8e6fa5c047"
   },
   "outputs": [
    {
     "data": {
      "text/plain": [
       "array([[False, False, False],\n",
       "       [ True,  True,  True],\n",
       "       [ True,  True,  True]])"
      ]
     },
     "execution_count": 33,
     "metadata": {},
     "output_type": "execute_result"
    }
   ],
   "source": [
    "A > 3"
   ]
  },
  {
   "cell_type": "markdown",
   "metadata": {
    "id": "wIWBy9Vlwr5E"
   },
   "source": [
    "### `Матричные арифметические операции`"
   ]
  },
  {
   "cell_type": "code",
   "execution_count": 34,
   "metadata": {
    "ExecuteTime": {
     "end_time": "2022-09-22T08:01:09.092838Z",
     "start_time": "2022-09-22T08:01:09.079837Z"
    },
    "colab": {
     "base_uri": "https://localhost:8080/"
    },
    "id": "0cuAz2RYwr5E",
    "outputId": "c89086d6-ecbd-418e-f8c4-33b0e4a800a2"
   },
   "outputs": [
    {
     "name": "stdout",
     "output_type": "stream",
     "text": [
      "[[0 2 3]\n",
      " [4 3 6]\n",
      " [7 8 6]]\n"
     ]
    }
   ],
   "source": [
    "print(A - B)"
   ]
  },
  {
   "cell_type": "code",
   "execution_count": 35,
   "metadata": {
    "ExecuteTime": {
     "end_time": "2022-09-22T08:01:09.312868Z",
     "start_time": "2022-09-22T08:01:09.300868Z"
    },
    "colab": {
     "base_uri": "https://localhost:8080/"
    },
    "id": "PbqVDUWJwr5E",
    "outputId": "eb3f5c1a-dfd8-450d-f95d-ac8e48621222"
   },
   "outputs": [
    {
     "name": "stdout",
     "output_type": "stream",
     "text": [
      "[[ 1  0  0]\n",
      " [ 0 10  0]\n",
      " [ 0  0 27]]\n"
     ]
    }
   ],
   "source": [
    "print(A * B)"
   ]
  },
  {
   "cell_type": "code",
   "execution_count": 36,
   "metadata": {
    "ExecuteTime": {
     "end_time": "2022-09-22T08:01:09.504270Z",
     "start_time": "2022-09-22T08:01:09.501269Z"
    },
    "colab": {
     "base_uri": "https://localhost:8080/"
    },
    "id": "sNG4QwuIwr5E",
    "outputId": "f9a21388-e69a-4ba1-b1bd-843bd4ec8a53"
   },
   "outputs": [
    {
     "name": "stdout",
     "output_type": "stream",
     "text": [
      "[[1.         0.         0.        ]\n",
      " [0.         0.4        0.        ]\n",
      " [0.         0.         0.33333333]]\n"
     ]
    }
   ],
   "source": [
    "print(B / A)"
   ]
  },
  {
   "cell_type": "code",
   "execution_count": 37,
   "metadata": {
    "ExecuteTime": {
     "end_time": "2022-09-22T08:01:09.709313Z",
     "start_time": "2022-09-22T08:01:09.700313Z"
    },
    "colab": {
     "base_uri": "https://localhost:8080/"
    },
    "id": "YPXwQduPwr5E",
    "outputId": "847481fc-65f3-4b28-aca0-92c0ffa09e1b"
   },
   "outputs": [
    {
     "name": "stdout",
     "output_type": "stream",
     "text": [
      "[[ 1  4  9]\n",
      " [ 4 10 18]\n",
      " [ 7 16 27]]\n"
     ]
    }
   ],
   "source": [
    "print(A @ B)"
   ]
  },
  {
   "cell_type": "markdown",
   "metadata": {
    "id": "LL9IMT3Owr5G"
   },
   "source": [
    "### `Матричное умножение`\n",
    "\n",
    "Расмотрим для случая двумерных матриц"
   ]
  },
  {
   "cell_type": "code",
   "execution_count": null,
   "metadata": {
    "ExecuteTime": {
     "end_time": "2022-09-22T08:01:17.673826Z",
     "start_time": "2022-09-22T08:01:17.659828Z"
    },
    "colab": {
     "base_uri": "https://localhost:8080/"
    },
    "id": "ZWCMRVeWwr5G",
    "outputId": "58d21f48-00b8-446f-8525-6da0835c29cb"
   },
   "outputs": [
    {
     "name": "stdout",
     "output_type": "stream",
     "text": [
      "[[ 1  4  9]\n",
      " [ 4 10 18]\n",
      " [ 7 16 27]] \n",
      "\n",
      "[[ 1  4  9]\n",
      " [ 4 10 18]\n",
      " [ 7 16 27]] \n",
      "\n",
      "[[ 1  4  9]\n",
      " [ 4 10 18]\n",
      " [ 7 16 27]]\n"
     ]
    }
   ],
   "source": [
    "print(A @ B, '\\n')\n",
    "print(A.dot(B), '\\n')\n",
    "print(torch.dot(A, B))"
   ]
  },
  {
   "cell_type": "markdown",
   "metadata": {
    "id": "ruKEwUpBwr5G"
   },
   "source": [
    "### `Транспонирование`\n",
    "\n",
    "- Расмотрим для случая двумерных матриц, кому интересны многомерные, изучайте\n",
    "https://stackoverflow.com/questions/32034237/how-does-numpys-transpose-method-permute-the-axes-of-an-array\n",
    "- При транспонировании (как и `reshape`) возвращается ссылка на те же данные"
   ]
  },
  {
   "cell_type": "code",
   "execution_count": null,
   "metadata": {
    "ExecuteTime": {
     "end_time": "2022-09-22T08:01:18.346450Z",
     "start_time": "2022-09-22T08:01:18.340451Z"
    },
    "id": "Sb5c3LQ3wr5H",
    "outputId": "ef023952-ec2a-4bd4-8ebe-ea51b8f16320"
   },
   "outputs": [
    {
     "name": "stdout",
     "output_type": "stream",
     "text": [
      "[[1 2 3]\n",
      " [4 5 6]\n",
      " [7 8 9]] \n",
      "\n",
      " [[1 4 7]\n",
      " [2 5 8]\n",
      " [3 6 9]] \n",
      "\n",
      " [[1 4 7]\n",
      " [2 5 8]\n",
      " [3 6 9]]\n"
     ]
    }
   ],
   "source": [
    "print(A, '\\n\\n', A.T, '\\n\\n', A.transpose())"
   ]
  },
  {
   "cell_type": "markdown",
   "metadata": {
    "id": "ld63YyY4wr5H"
   },
   "source": [
    "### `Сравнение скорости`\n",
    "\n",
    "Воспользуемся декоратором `timed` для сравнения скорости матричных операций, реализованных в `numpy` и написанных выше с помощью списков:"
   ]
  },
  {
   "cell_type": "code",
   "execution_count": 62,
   "metadata": {
    "ExecuteTime": {
     "end_time": "2022-09-22T08:01:18.711053Z",
     "start_time": "2022-09-22T08:01:18.708055Z"
    },
    "id": "BtZObWGWwr5H"
   },
   "outputs": [],
   "source": [
    "@timed\n",
    "def matrix_add_np(A, B): return A + B\n",
    "\n",
    "@timed\n",
    "def matrix_mul_np(A, B): return A @ B"
   ]
  },
  {
   "cell_type": "code",
   "execution_count": 67,
   "metadata": {
    "ExecuteTime": {
     "end_time": "2022-09-22T08:01:20.085052Z",
     "start_time": "2022-09-22T08:01:18.909053Z"
    },
    "colab": {
     "base_uri": "https://localhost:8080/"
    },
    "id": "23AocmUnwr5H",
    "outputId": "2e075f0b-4124-4596-f8b2-f6419b7e93c8"
   },
   "outputs": [
    {
     "name": "stdout",
     "output_type": "stream",
     "text": [
      "matrix_add  690.307 ms\n",
      "\n",
      "matrix_add_np  3.761 ms\n",
      "\n",
      "matrix_transpose  12.119 ms\n",
      "\n",
      "matrix_mul  2138.916 ms\n",
      "\n",
      "matrix_mul_np  8.289 ms\n",
      "\n"
     ]
    }
   ],
   "source": [
    "tmp = [range(1000) for _ in range(1000)]\n",
    "X, Y = np.array(tmp), np.array(tmp)\n",
    "\n",
    "_ = matrix_add(X, Y)\n",
    "_ = matrix_add_np(X, Y)\n",
    "\n",
    "tmp = [range(200) for _ in range(200)]\n",
    "X, Y = np.array(tmp), np.array(tmp)\n",
    "\n",
    "_ = matrix_mul(X, Y)\n",
    "_ = matrix_mul_np(X, Y)"
   ]
  },
  {
   "cell_type": "markdown",
   "metadata": {
    "id": "Ox32-t_6wr5Q"
   },
   "source": [
    "## `Спасибо за внимание!`"
   ]
  }
 ],
 "metadata": {
  "celltoolbar": "Slideshow",
  "colab": {
   "provenance": []
  },
  "kernelspec": {
   "display_name": ".sirius-lectures",
   "language": "python",
   "name": "python3"
  },
  "language_info": {
   "codemirror_mode": {
    "name": "ipython",
    "version": 3
   },
   "file_extension": ".py",
   "mimetype": "text/x-python",
   "name": "python",
   "nbconvert_exporter": "python",
   "pygments_lexer": "ipython3",
   "version": "3.10.15"
  }
 },
 "nbformat": 4,
 "nbformat_minor": 0
}
