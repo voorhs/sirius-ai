{
 "cells": [
  {
   "cell_type": "markdown",
   "metadata": {},
   "source": [
    "## `Занятие 1.2: Основы Pytorch`\n",
    "#### `Сириус, смена \"Алгоритмы и анализ данных\" 2024`"
   ]
  },
  {
   "cell_type": "markdown",
   "metadata": {},
   "source": [
    "#### `Первое ключевое отличие — возможность перемещения на GPU`"
   ]
  },
  {
   "cell_type": "code",
   "execution_count": 10,
   "metadata": {
    "ExecuteTime": {
     "end_time": "2023-02-28T12:24:42.667044Z",
     "start_time": "2023-02-28T12:24:42.640050Z"
    }
   },
   "outputs": [
    {
     "data": {
      "text/plain": [
       "(torch.float32, device(type='cpu'))"
      ]
     },
     "execution_count": 10,
     "metadata": {},
     "output_type": "execute_result"
    }
   ],
   "source": [
    "a = torch.randn(3, 5)\n",
    "a.dtype, a.device"
   ]
  },
  {
   "cell_type": "markdown",
   "metadata": {},
   "source": [
    "Проверим, что GPU доступна:"
   ]
  },
  {
   "cell_type": "code",
   "execution_count": 11,
   "metadata": {
    "ExecuteTime": {
     "end_time": "2023-02-28T12:24:47.248017Z",
     "start_time": "2023-02-28T12:24:47.221484Z"
    }
   },
   "outputs": [
    {
     "data": {
      "text/plain": [
       "False"
      ]
     },
     "execution_count": 11,
     "metadata": {},
     "output_type": "execute_result"
    }
   ],
   "source": [
    "torch.cuda.is_available()"
   ]
  },
  {
   "cell_type": "code",
   "execution_count": 12,
   "metadata": {
    "ExecuteTime": {
     "end_time": "2023-02-28T12:25:16.973109Z",
     "start_time": "2023-02-28T12:25:16.946647Z"
    }
   },
   "outputs": [
    {
     "data": {
      "text/plain": [
       "device(type='cpu')"
      ]
     },
     "execution_count": 12,
     "metadata": {},
     "output_type": "execute_result"
    }
   ],
   "source": [
    "device = (\n",
    "    torch.device('cuda', 0) # эквивалентно: torch.device('cuda:0') / 'cuda' / 'cuda:0'\n",
    "    if torch.cuda.is_available() \n",
    "    else torch.device('cpu') \n",
    ")\n",
    "device"
   ]
  },
  {
   "cell_type": "code",
   "execution_count": 13,
   "metadata": {
    "ExecuteTime": {
     "end_time": "2023-02-28T12:25:49.614124Z",
     "start_time": "2023-02-28T12:25:49.587632Z"
    }
   },
   "outputs": [
    {
     "data": {
      "text/plain": [
       "tensor([[ 0.1152,  0.1546, -0.9449, -1.6251, -0.8447],\n",
       "        [-0.5225, -1.1298, -1.2684,  1.1318,  0.0315],\n",
       "        [ 0.2922, -1.4419,  0.7172,  1.2302, -0.3422]])"
      ]
     },
     "execution_count": 13,
     "metadata": {},
     "output_type": "execute_result"
    }
   ],
   "source": [
    "a.to(device)"
   ]
  },
  {
   "cell_type": "markdown",
   "metadata": {},
   "source": [
    "Операции между тензорами на разных устройствах не возможны:"
   ]
  },
  {
   "cell_type": "code",
   "execution_count": null,
   "metadata": {
    "ExecuteTime": {
     "end_time": "2023-02-28T09:44:15.351137Z",
     "start_time": "2023-02-28T09:44:15.268716Z"
    }
   },
   "outputs": [],
   "source": [
    "a.cuda() + a"
   ]
  },
  {
   "attachments": {},
   "cell_type": "markdown",
   "metadata": {},
   "source": [
    "Обратите внимание, что при изменении device (c GPU на CPU и обратно происходит копирование):"
   ]
  },
  {
   "cell_type": "code",
   "execution_count": null,
   "metadata": {},
   "outputs": [],
   "source": [
    "p_cpu = torch.rand(10)\n",
    "p_gpu = p_cpu.to(device)\n",
    "\n",
    "p_cpu -= 1\n",
    "p_cpu, p_gpu"
   ]
  },
  {
   "cell_type": "markdown",
   "metadata": {},
   "source": [
    "#### `Второе ключевое отличие — Autograd`"
   ]
  },
  {
   "cell_type": "markdown",
   "metadata": {},
   "source": [
    "Все тензоры содержат атрибут `.grad`, который может хранить градиент по этому тензору."
   ]
  },
  {
   "cell_type": "code",
   "execution_count": 14,
   "metadata": {
    "ExecuteTime": {
     "end_time": "2023-02-28T12:32:18.734804Z",
     "start_time": "2023-02-28T12:32:18.709812Z"
    }
   },
   "outputs": [],
   "source": [
    "a.grad"
   ]
  },
  {
   "cell_type": "markdown",
   "metadata": {},
   "source": [
    "По умолчанию, тензоры, создаваемые в pytorch, не будут требовать, чтобы для них посчитали градиент. Для этого надо добавить дополнительный аргумент `requires_grad=True`, либо вызвав метод `.requires_grad_()`."
   ]
  },
  {
   "cell_type": "code",
   "execution_count": 15,
   "metadata": {
    "ExecuteTime": {
     "end_time": "2023-02-28T12:32:37.982633Z",
     "start_time": "2023-02-28T12:32:37.955461Z"
    }
   },
   "outputs": [
    {
     "data": {
      "text/plain": [
       "tensor([1., 2., 3.], requires_grad=True)"
      ]
     },
     "execution_count": 15,
     "metadata": {},
     "output_type": "execute_result"
    }
   ],
   "source": [
    "x = torch.tensor([1., 2., 3.], requires_grad=True)\n",
    "y = torch.tensor([1., 2., 3.])\n",
    "y.requires_grad_()"
   ]
  },
  {
   "cell_type": "markdown",
   "metadata": {
    "ExecuteTime": {
     "end_time": "2023-02-28T09:50:22.820474Z",
     "start_time": "2023-02-28T09:50:22.793992Z"
    }
   },
   "source": [
    "Производя операции с переменными, по которым нужно считать градиенты, мы конструируем граф вычислений:"
   ]
  },
  {
   "cell_type": "code",
   "execution_count": 16,
   "metadata": {
    "ExecuteTime": {
     "end_time": "2023-02-28T12:33:38.274017Z",
     "start_time": "2023-02-28T12:33:38.247800Z"
    }
   },
   "outputs": [
    {
     "data": {
      "text/plain": [
       "True"
      ]
     },
     "execution_count": 16,
     "metadata": {},
     "output_type": "execute_result"
    }
   ],
   "source": [
    "z = 3 * x**3 - y**2\n",
    "z.requires_grad"
   ]
  },
  {
   "cell_type": "markdown",
   "metadata": {
    "ExecuteTime": {
     "end_time": "2023-02-28T09:50:37.275708Z",
     "start_time": "2023-02-28T09:50:37.248285Z"
    }
   },
   "source": [
    "В каждой переменной есть информация о том, как именно она была получена при проходе вперёд. Исходя из этой информации у тензоров в графе вычислений хранятся функции, которые должны быть вызваны на обратном проходе для расчёта градиента."
   ]
  },
  {
   "cell_type": "code",
   "execution_count": 17,
   "metadata": {
    "ExecuteTime": {
     "end_time": "2023-02-28T12:34:15.874921Z",
     "start_time": "2023-02-28T12:34:15.848470Z"
    }
   },
   "outputs": [
    {
     "data": {
      "text/plain": [
       "<SubBackward0 at 0x106a83730>"
      ]
     },
     "execution_count": 17,
     "metadata": {},
     "output_type": "execute_result"
    }
   ],
   "source": [
    "z.grad_fn"
   ]
  },
  {
   "cell_type": "markdown",
   "metadata": {},
   "source": [
    "Считать для каждого тензора якобиан целиком — сильно неоптимально. Вместо этого на всех промежуточных этапах autograd считает только произведения якобиан-вектор. В частности из-за этого, конечный тензор в графе всегда должен быть скаляром, что выполняется для всех функций потерь по определению."
   ]
  },
  {
   "cell_type": "markdown",
   "metadata": {
    "ExecuteTime": {
     "end_time": "2023-02-28T09:50:49.361799Z",
     "start_time": "2023-02-28T09:50:49.334010Z"
    }
   },
   "source": [
    "Для примера сделаем из тензора `z` скаляр, сложив все его элементы, и посчитаем градиенты с помощью функции .backward()"
   ]
  },
  {
   "cell_type": "code",
   "execution_count": 18,
   "metadata": {
    "ExecuteTime": {
     "end_time": "2023-02-28T12:36:35.186266Z",
     "start_time": "2023-02-28T12:36:35.134969Z"
    }
   },
   "outputs": [],
   "source": [
    "z.sum().backward()"
   ]
  },
  {
   "cell_type": "code",
   "execution_count": 19,
   "metadata": {
    "ExecuteTime": {
     "end_time": "2023-02-28T12:36:36.720780Z",
     "start_time": "2023-02-28T12:36:36.698582Z"
    }
   },
   "outputs": [
    {
     "data": {
      "text/plain": [
       "(tensor([ 9., 36., 81.]), tensor([-2., -4., -6.]))"
      ]
     },
     "execution_count": 19,
     "metadata": {},
     "output_type": "execute_result"
    }
   ],
   "source": [
    "x.grad, y.grad"
   ]
  },
  {
   "cell_type": "markdown",
   "metadata": {
    "ExecuteTime": {
     "end_time": "2023-02-28T09:50:49.361799Z",
     "start_time": "2023-02-28T09:50:49.334010Z"
    }
   },
   "source": [
    "Сравним с посчитанным вручную градиентом:"
   ]
  },
  {
   "cell_type": "code",
   "execution_count": 20,
   "metadata": {
    "ExecuteTime": {
     "end_time": "2023-02-28T12:36:55.067720Z",
     "start_time": "2023-02-28T12:36:55.038990Z"
    }
   },
   "outputs": [
    {
     "data": {
      "text/plain": [
       "True"
      ]
     },
     "execution_count": 20,
     "metadata": {},
     "output_type": "execute_result"
    }
   ],
   "source": [
    "torch.allclose(x.grad, 9 * x**2)"
   ]
  },
  {
   "cell_type": "markdown",
   "metadata": {},
   "source": [
    "Однако, для оптимизации вычислений, градиенты не вычисляются в явном виде для промежуточных вершин графа"
   ]
  },
  {
   "cell_type": "code",
   "execution_count": 21,
   "metadata": {
    "ExecuteTime": {
     "end_time": "2023-02-28T12:37:59.693186Z",
     "start_time": "2023-02-28T12:37:59.666173Z"
    }
   },
   "outputs": [
    {
     "name": "stderr",
     "output_type": "stream",
     "text": [
      "/var/folders/3c/vr2463p11lz5fr_80mrg72gh0000gq/T/ipykernel_47876/4110045842.py:1: UserWarning: The .grad attribute of a Tensor that is not a leaf Tensor is being accessed. Its .grad attribute won't be populated during autograd.backward(). If you indeed want the .grad field to be populated for a non-leaf Tensor, use .retain_grad() on the non-leaf Tensor. If you access the non-leaf Tensor by mistake, make sure you access the leaf Tensor instead. See github.com/pytorch/pytorch/pull/30531 for more informations. (Triggered internally at /Users/runner/work/pytorch/pytorch/pytorch/build/aten/src/ATen/core/TensorBody.h:485.)\n",
      "  z.grad\n"
     ]
    }
   ],
   "source": [
    "z.grad"
   ]
  },
  {
   "cell_type": "markdown",
   "metadata": {},
   "source": [
    "Если такое всё же нужно, требуется указать это явно с помощью вызова `.retain_grad()`"
   ]
  },
  {
   "cell_type": "code",
   "execution_count": 22,
   "metadata": {
    "ExecuteTime": {
     "end_time": "2023-02-28T12:38:19.420533Z",
     "start_time": "2023-02-28T12:38:19.390708Z"
    }
   },
   "outputs": [
    {
     "data": {
      "text/plain": [
       "tensor([1., 1., 1.])"
      ]
     },
     "execution_count": 22,
     "metadata": {},
     "output_type": "execute_result"
    }
   ],
   "source": [
    "x = torch.tensor([1., 2., 3.], requires_grad=True)\n",
    "y = torch.tensor([1., 2., 3.])\n",
    "\n",
    "z = 3 * x**3 - y**2\n",
    "z.retain_grad()\n",
    "\n",
    "z.sum().backward()\n",
    "z.grad"
   ]
  },
  {
   "cell_type": "markdown",
   "metadata": {},
   "source": [
    "#### `Визуализация графа вычислений`"
   ]
  },
  {
   "cell_type": "markdown",
   "metadata": {},
   "source": [
    "Для примера визуализируем, как бы выглядел граф вычислений для линейной регресси.\n",
    "\n",
    "Заметим, что пакет визуализации `pytorchviz` предназначен в первую очередь для визуализации нейронных сетей, поэтому нам необходимо будет использовать класс `torch.nn.Parameter`, который является обёрткой над тензором и несколько расширяет возможности аргумента `requires_grad=True`\n",
    "\n",
    "Графы визуализируются библиотекой `graphviz`. "
   ]
  },
  {
   "cell_type": "code",
   "execution_count": 23,
   "metadata": {
    "ExecuteTime": {
     "end_time": "2023-02-28T09:53:47.806077Z",
     "start_time": "2023-02-28T09:53:20.107297Z"
    }
   },
   "outputs": [
    {
     "name": "stdout",
     "output_type": "stream",
     "text": [
      "Requirement already satisfied: torchviz in /usr/local/lib/python3.10/site-packages (0.0.2)\n",
      "Requirement already satisfied: graphviz in /usr/local/lib/python3.10/site-packages (from torchviz) (0.20.1)\n",
      "Requirement already satisfied: torch in /usr/local/lib/python3.10/site-packages (from torchviz) (1.13.0)\n",
      "Requirement already satisfied: typing-extensions in /usr/local/lib/python3.10/site-packages (from torch->torchviz) (4.4.0)\n",
      "\n",
      "\u001b[1m[\u001b[0m\u001b[34;49mnotice\u001b[0m\u001b[1;39;49m]\u001b[0m\u001b[39;49m A new release of pip available: \u001b[0m\u001b[31;49m22.3.1\u001b[0m\u001b[39;49m -> \u001b[0m\u001b[32;49m23.0.1\u001b[0m\n",
      "\u001b[1m[\u001b[0m\u001b[34;49mnotice\u001b[0m\u001b[1;39;49m]\u001b[0m\u001b[39;49m To update, run: \u001b[0m\u001b[32;49mpython3.10 -m pip install --upgrade pip\u001b[0m\n"
     ]
    }
   ],
   "source": [
    "! pip3 install torchviz"
   ]
  },
  {
   "cell_type": "code",
   "execution_count": 24,
   "metadata": {
    "ExecuteTime": {
     "end_time": "2023-02-28T12:39:02.053088Z",
     "start_time": "2023-02-28T12:39:02.027188Z"
    }
   },
   "outputs": [],
   "source": [
    "from torchviz import make_dot"
   ]
  },
  {
   "cell_type": "code",
   "execution_count": 25,
   "metadata": {
    "ExecuteTime": {
     "end_time": "2023-02-28T12:42:47.149224Z",
     "start_time": "2023-02-28T12:42:46.981157Z"
    }
   },
   "outputs": [
    {
     "data": {
      "image/svg+xml": [
       "<?xml version=\"1.0\" encoding=\"UTF-8\" standalone=\"no\"?>\n",
       "<!DOCTYPE svg PUBLIC \"-//W3C//DTD SVG 1.1//EN\"\n",
       " \"http://www.w3.org/Graphics/SVG/1.1/DTD/svg11.dtd\">\n",
       "<!-- Generated by graphviz version 7.1.0 (20230121.1956)\n",
       " -->\n",
       "<!-- Pages: 1 -->\n",
       "<svg width=\"219pt\" height=\"445pt\"\n",
       " viewBox=\"0.00 0.00 219.00 445.00\" xmlns=\"http://www.w3.org/2000/svg\" xmlns:xlink=\"http://www.w3.org/1999/xlink\">\n",
       "<g id=\"graph0\" class=\"graph\" transform=\"scale(1 1) rotate(0) translate(4 441)\">\n",
       "<polygon fill=\"white\" stroke=\"none\" points=\"-4,4 -4,-441 215,-441 215,4 -4,4\"/>\n",
       "<!-- 4889039616 -->\n",
       "<g id=\"node1\" class=\"node\">\n",
       "<title>4889039616</title>\n",
       "<polygon fill=\"#caff70\" stroke=\"black\" points=\"132.5,-30 78.5,-30 78.5,0 132.5,0 132.5,-30\"/>\n",
       "<text text-anchor=\"middle\" x=\"105.5\" y=\"-18\" font-family=\"monospace\" font-size=\"10.00\">Loss</text>\n",
       "<text text-anchor=\"middle\" x=\"105.5\" y=\"-7\" font-family=\"monospace\" font-size=\"10.00\"> ()</text>\n",
       "</g>\n",
       "<!-- 4888947888 -->\n",
       "<g id=\"node2\" class=\"node\">\n",
       "<title>4888947888</title>\n",
       "<polygon fill=\"lightgrey\" stroke=\"black\" points=\"153,-85 58,-85 58,-66 153,-66 153,-85\"/>\n",
       "<text text-anchor=\"middle\" x=\"105.5\" y=\"-73\" font-family=\"monospace\" font-size=\"10.00\">MeanBackward0</text>\n",
       "</g>\n",
       "<!-- 4888947888&#45;&gt;4889039616 -->\n",
       "<g id=\"edge9\" class=\"edge\">\n",
       "<title>4888947888&#45;&gt;4889039616</title>\n",
       "<path fill=\"none\" stroke=\"black\" d=\"M105.5,-65.87C105.5,-59.4 105.5,-50.2 105.5,-41.45\"/>\n",
       "<polygon fill=\"black\" stroke=\"black\" points=\"109,-41.63 105.5,-31.63 102,-41.63 109,-41.63\"/>\n",
       "</g>\n",
       "<!-- 4888948464 -->\n",
       "<g id=\"node3\" class=\"node\">\n",
       "<title>4888948464</title>\n",
       "<polygon fill=\"lightgrey\" stroke=\"black\" points=\"150,-140 61,-140 61,-121 150,-121 150,-140\"/>\n",
       "<text text-anchor=\"middle\" x=\"105.5\" y=\"-128\" font-family=\"monospace\" font-size=\"10.00\">PowBackward0</text>\n",
       "</g>\n",
       "<!-- 4888948464&#45;&gt;4888947888 -->\n",
       "<g id=\"edge1\" class=\"edge\">\n",
       "<title>4888948464&#45;&gt;4888947888</title>\n",
       "<path fill=\"none\" stroke=\"black\" d=\"M105.5,-120.75C105.5,-114.27 105.5,-105.16 105.5,-96.9\"/>\n",
       "<polygon fill=\"black\" stroke=\"black\" points=\"109,-96.96 105.5,-86.96 102,-96.96 109,-96.96\"/>\n",
       "</g>\n",
       "<!-- 4888948320 -->\n",
       "<g id=\"node4\" class=\"node\">\n",
       "<title>4888948320</title>\n",
       "<polygon fill=\"lightgrey\" stroke=\"black\" points=\"150,-195 61,-195 61,-176 150,-176 150,-195\"/>\n",
       "<text text-anchor=\"middle\" x=\"105.5\" y=\"-183\" font-family=\"monospace\" font-size=\"10.00\">SubBackward0</text>\n",
       "</g>\n",
       "<!-- 4888948320&#45;&gt;4888948464 -->\n",
       "<g id=\"edge2\" class=\"edge\">\n",
       "<title>4888948320&#45;&gt;4888948464</title>\n",
       "<path fill=\"none\" stroke=\"black\" d=\"M105.5,-175.75C105.5,-169.27 105.5,-160.16 105.5,-151.9\"/>\n",
       "<polygon fill=\"black\" stroke=\"black\" points=\"109,-151.96 105.5,-141.96 102,-151.96 109,-151.96\"/>\n",
       "</g>\n",
       "<!-- 4888948128 -->\n",
       "<g id=\"node5\" class=\"node\">\n",
       "<title>4888948128</title>\n",
       "<polygon fill=\"lightgrey\" stroke=\"black\" points=\"150,-250 61,-250 61,-231 150,-231 150,-250\"/>\n",
       "<text text-anchor=\"middle\" x=\"105.5\" y=\"-238\" font-family=\"monospace\" font-size=\"10.00\">AddBackward0</text>\n",
       "</g>\n",
       "<!-- 4888948128&#45;&gt;4888948320 -->\n",
       "<g id=\"edge3\" class=\"edge\">\n",
       "<title>4888948128&#45;&gt;4888948320</title>\n",
       "<path fill=\"none\" stroke=\"black\" d=\"M105.5,-230.75C105.5,-224.27 105.5,-215.16 105.5,-206.9\"/>\n",
       "<polygon fill=\"black\" stroke=\"black\" points=\"109,-206.96 105.5,-196.96 102,-206.96 109,-206.96\"/>\n",
       "</g>\n",
       "<!-- 4888948608 -->\n",
       "<g id=\"node6\" class=\"node\">\n",
       "<title>4888948608</title>\n",
       "<polygon fill=\"lightgrey\" stroke=\"black\" points=\"92,-305 9,-305 9,-286 92,-286 92,-305\"/>\n",
       "<text text-anchor=\"middle\" x=\"50.5\" y=\"-293\" font-family=\"monospace\" font-size=\"10.00\">MvBackward0</text>\n",
       "</g>\n",
       "<!-- 4888948608&#45;&gt;4888948128 -->\n",
       "<g id=\"edge4\" class=\"edge\">\n",
       "<title>4888948608&#45;&gt;4888948128</title>\n",
       "<path fill=\"none\" stroke=\"black\" d=\"M59.58,-285.75C67.34,-278.27 78.71,-267.32 88.2,-258.17\"/>\n",
       "<polygon fill=\"black\" stroke=\"black\" points=\"90.36,-260.95 95.13,-251.49 85.5,-255.91 90.36,-260.95\"/>\n",
       "</g>\n",
       "<!-- 4888948032 -->\n",
       "<g id=\"node7\" class=\"node\">\n",
       "<title>4888948032</title>\n",
       "<polygon fill=\"lightgrey\" stroke=\"black\" points=\"101,-365.5 0,-365.5 0,-346.5 101,-346.5 101,-365.5\"/>\n",
       "<text text-anchor=\"middle\" x=\"50.5\" y=\"-353.5\" font-family=\"monospace\" font-size=\"10.00\">AccumulateGrad</text>\n",
       "</g>\n",
       "<!-- 4888948032&#45;&gt;4888948608 -->\n",
       "<g id=\"edge5\" class=\"edge\">\n",
       "<title>4888948032&#45;&gt;4888948608</title>\n",
       "<path fill=\"none\" stroke=\"black\" d=\"M50.5,-346.37C50.5,-338.5 50.5,-326.6 50.5,-316.39\"/>\n",
       "<polygon fill=\"black\" stroke=\"black\" points=\"54,-316.68 50.5,-306.68 47,-316.68 54,-316.68\"/>\n",
       "</g>\n",
       "<!-- 4889039136 -->\n",
       "<g id=\"node8\" class=\"node\">\n",
       "<title>4889039136</title>\n",
       "<polygon fill=\"lightblue\" stroke=\"black\" points=\"77.5,-437 23.5,-437 23.5,-407 77.5,-407 77.5,-437\"/>\n",
       "<text text-anchor=\"middle\" x=\"50.5\" y=\"-425\" font-family=\"monospace\" font-size=\"10.00\">Weight</text>\n",
       "<text text-anchor=\"middle\" x=\"50.5\" y=\"-414\" font-family=\"monospace\" font-size=\"10.00\"> (10)</text>\n",
       "</g>\n",
       "<!-- 4889039136&#45;&gt;4888948032 -->\n",
       "<g id=\"edge6\" class=\"edge\">\n",
       "<title>4889039136&#45;&gt;4888948032</title>\n",
       "<path fill=\"none\" stroke=\"black\" d=\"M50.5,-406.8C50.5,-398.09 50.5,-386.81 50.5,-377.18\"/>\n",
       "<polygon fill=\"black\" stroke=\"black\" points=\"54,-377.36 50.5,-367.36 47,-377.36 54,-377.36\"/>\n",
       "</g>\n",
       "<!-- 4888948560 -->\n",
       "<g id=\"node9\" class=\"node\">\n",
       "<title>4888948560</title>\n",
       "<polygon fill=\"lightgrey\" stroke=\"black\" points=\"211,-305 110,-305 110,-286 211,-286 211,-305\"/>\n",
       "<text text-anchor=\"middle\" x=\"160.5\" y=\"-293\" font-family=\"monospace\" font-size=\"10.00\">AccumulateGrad</text>\n",
       "</g>\n",
       "<!-- 4888948560&#45;&gt;4888948128 -->\n",
       "<g id=\"edge7\" class=\"edge\">\n",
       "<title>4888948560&#45;&gt;4888948128</title>\n",
       "<path fill=\"none\" stroke=\"black\" d=\"M151.42,-285.75C143.66,-278.27 132.29,-267.32 122.8,-258.17\"/>\n",
       "<polygon fill=\"black\" stroke=\"black\" points=\"125.5,-255.91 115.87,-251.49 120.64,-260.95 125.5,-255.91\"/>\n",
       "</g>\n",
       "<!-- 4889039296 -->\n",
       "<g id=\"node10\" class=\"node\">\n",
       "<title>4889039296</title>\n",
       "<polygon fill=\"lightblue\" stroke=\"black\" points=\"187.5,-371 133.5,-371 133.5,-341 187.5,-341 187.5,-371\"/>\n",
       "<text text-anchor=\"middle\" x=\"160.5\" y=\"-359\" font-family=\"monospace\" font-size=\"10.00\">Bias</text>\n",
       "<text text-anchor=\"middle\" x=\"160.5\" y=\"-348\" font-family=\"monospace\" font-size=\"10.00\"> (1)</text>\n",
       "</g>\n",
       "<!-- 4889039296&#45;&gt;4888948560 -->\n",
       "<g id=\"edge8\" class=\"edge\">\n",
       "<title>4889039296&#45;&gt;4888948560</title>\n",
       "<path fill=\"none\" stroke=\"black\" d=\"M160.5,-340.54C160.5,-333.34 160.5,-324.53 160.5,-316.68\"/>\n",
       "<polygon fill=\"black\" stroke=\"black\" points=\"164,-316.69 160.5,-306.69 157,-316.69 164,-316.69\"/>\n",
       "</g>\n",
       "</g>\n",
       "</svg>\n"
      ],
      "text/plain": [
       "<graphviz.graphs.Digraph at 0x123676ce0>"
      ]
     },
     "execution_count": 25,
     "metadata": {},
     "output_type": "execute_result"
    }
   ],
   "source": [
    "X = torch.rand(5, 10)\n",
    "y = torch.rand(5)\n",
    "\n",
    "w = torch.nn.Parameter(torch.rand(10))\n",
    "b = torch.nn.Parameter(torch.rand(1))\n",
    "\n",
    "y_hat = X @ w + b\n",
    "\n",
    "loss = torch.mean((y - y_hat)**2)\n",
    "make_dot(loss, params={'Weight': w, 'Bias': b, 'Loss': loss})"
   ]
  },
  {
   "cell_type": "markdown",
   "metadata": {},
   "source": [
    "Что можно сказать об этом графе вычислений?\n",
    "\n",
    "* В листьях графа мы не видим тензора `X`, так кка нам требуется расчёт градиента только по параметрам модели.\n",
    "* `MvBackward0` соответствует матрично-векторному умножению (отсюда и первые буквы `Mv`) c матрицей `X`.\n",
    "* `AddBackward0` соответствует добавлению смещения `b`, остальная часть графа — вычисление MSE."
   ]
  },
  {
   "cell_type": "markdown",
   "metadata": {},
   "source": [
    "#### `Аккумулирование градиентов`"
   ]
  },
  {
   "cell_type": "markdown",
   "metadata": {},
   "source": [
    "Если не предпринимать никаких дополнительных действий, то множественный вызов `.backward()` будет не перезаписывать градиенты тензоров, а складывать их с уже существующим значением (сам граф вычислений каждый раз разрушается). Такое поведение может быть, например, нужно, чтобы посчитать градиент по батчу данных, который не влезает в память компьютера целиком, так как градиент модели аддитивен по входным данным."
   ]
  },
  {
   "cell_type": "code",
   "execution_count": 26,
   "metadata": {
    "ExecuteTime": {
     "end_time": "2023-02-28T12:45:48.289960Z",
     "start_time": "2023-02-28T12:45:48.259785Z"
    }
   },
   "outputs": [
    {
     "data": {
      "text/plain": [
       "tensor([[ 1.6422, -1.6038,  1.4735],\n",
       "        [ 0.8832, -1.2830, -0.0582],\n",
       "        [-2.3583, -0.6569,  1.2666]])"
      ]
     },
     "execution_count": 26,
     "metadata": {},
     "output_type": "execute_result"
    }
   ],
   "source": [
    "x = torch.randn(3, 3, requires_grad=True)\n",
    "y = torch.sum(x * x)\n",
    "y.backward()\n",
    "\n",
    "x.grad"
   ]
  },
  {
   "cell_type": "code",
   "execution_count": 27,
   "metadata": {
    "ExecuteTime": {
     "end_time": "2023-02-28T12:45:57.689497Z",
     "start_time": "2023-02-28T12:45:57.660403Z"
    }
   },
   "outputs": [
    {
     "data": {
      "text/plain": [
       "tensor([[ 3.6422,  0.3962,  3.4735],\n",
       "        [ 2.8832,  0.7170,  1.9418],\n",
       "        [-0.3583,  1.3431,  3.2666]])"
      ]
     },
     "execution_count": 27,
     "metadata": {},
     "output_type": "execute_result"
    }
   ],
   "source": [
    "z = torch.sum(2 * x)\n",
    "z.backward()\n",
    "\n",
    "# Заметьте, что ко всем значениям прибавилось 2\n",
    "x.grad"
   ]
  },
  {
   "cell_type": "markdown",
   "metadata": {},
   "source": [
    "Также подобный подход используется в рекуррентных нейронных сетях, где к одному и тому же тензору весов нейросети происходит несколько обращений во время прямого прохода.\n",
    "\n",
    "Чтобы считать градиент с нуля, достаточно удалить тензор."
   ]
  },
  {
   "cell_type": "code",
   "execution_count": 28,
   "metadata": {
    "ExecuteTime": {
     "end_time": "2023-02-28T12:46:58.330786Z",
     "start_time": "2023-02-28T12:46:58.304503Z"
    }
   },
   "outputs": [],
   "source": [
    "x.grad = None"
   ]
  },
  {
   "cell_type": "markdown",
   "metadata": {
    "ExecuteTime": {
     "end_time": "2023-02-28T10:04:16.122722Z",
     "start_time": "2023-02-28T10:04:16.088550Z"
    }
   },
   "source": [
    "#### `Inplace операции`"
   ]
  },
  {
   "cell_type": "markdown",
   "metadata": {},
   "source": [
    "По умолчанию, вызов `y = 2 * x` создаст новый тензор, в который скопирует значения `x`, умноженные на `2`. И есть большое желание провести данную операцию на месте, то есть без аллокации памяти. В nupmy это не имело бы никаких дополнительных последствий, но в pytorch нам надо помнить о графе вычислений, который должен быть без петель, а также может использовать тензоры, рассчитанные при прямом вычислении. В некоторых случаях библиотека может выполнить код и не ругнуться, но описание ситуаций, когда такое сработает, а когда нет, очень сложно, и потому сами разработчики не рекомендуют использовать in-place операции там, где необходим расчёт градиента.\n",
    "\n",
    "In-place операции всегда имеют символ `_` на конце."
   ]
  },
  {
   "cell_type": "code",
   "execution_count": 29,
   "metadata": {
    "ExecuteTime": {
     "end_time": "2023-02-28T12:49:24.782235Z",
     "start_time": "2023-02-28T12:49:24.642776Z"
    }
   },
   "outputs": [
    {
     "ename": "RuntimeError",
     "evalue": "one of the variables needed for gradient computation has been modified by an inplace operation: [torch.FloatTensor [3, 3]], which is output 0 of ExpBackward0, is at version 1; expected version 0 instead. Hint: enable anomaly detection to find the operation that failed to compute its gradient, with torch.autograd.set_detect_anomaly(True).",
     "output_type": "error",
     "traceback": [
      "\u001b[0;31m---------------------------------------------------------------------------\u001b[0m",
      "\u001b[0;31mRuntimeError\u001b[0m                              Traceback (most recent call last)",
      "\u001b[1;32m/Users/nakhodnov/mmp_practicum_spring_2023/Seminars/Seminar 03/Основы Pytorch.ipynb Cell 68\u001b[0m in \u001b[0;36m6\n\u001b[1;32m      <a href='vscode-notebook-cell:/Users/nakhodnov/mmp_practicum_spring_2023/Seminars/Seminar%2003/%D0%9E%D1%81%D0%BD%D0%BE%D0%B2%D1%8B%20Pytorch.ipynb#Y114sZmlsZQ%3D%3D?line=3'>4</a>\u001b[0m \u001b[39m# inplace operation!\u001b[39;00m\n\u001b[1;32m      <a href='vscode-notebook-cell:/Users/nakhodnov/mmp_practicum_spring_2023/Seminars/Seminar%2003/%D0%9E%D1%81%D0%BD%D0%BE%D0%B2%D1%8B%20Pytorch.ipynb#Y114sZmlsZQ%3D%3D?line=4'>5</a>\u001b[0m y\u001b[39m.\u001b[39mexp_()  \n\u001b[0;32m----> <a href='vscode-notebook-cell:/Users/nakhodnov/mmp_practicum_spring_2023/Seminars/Seminar%2003/%D0%9E%D1%81%D0%BD%D0%BE%D0%B2%D1%8B%20Pytorch.ipynb#Y114sZmlsZQ%3D%3D?line=5'>6</a>\u001b[0m z\u001b[39m.\u001b[39;49msum()\u001b[39m.\u001b[39;49mbackward()\n",
      "File \u001b[0;32m/usr/local/lib/python3.10/site-packages/torch/_tensor.py:487\u001b[0m, in \u001b[0;36mTensor.backward\u001b[0;34m(self, gradient, retain_graph, create_graph, inputs)\u001b[0m\n\u001b[1;32m    477\u001b[0m \u001b[39mif\u001b[39;00m has_torch_function_unary(\u001b[39mself\u001b[39m):\n\u001b[1;32m    478\u001b[0m     \u001b[39mreturn\u001b[39;00m handle_torch_function(\n\u001b[1;32m    479\u001b[0m         Tensor\u001b[39m.\u001b[39mbackward,\n\u001b[1;32m    480\u001b[0m         (\u001b[39mself\u001b[39m,),\n\u001b[0;32m   (...)\u001b[0m\n\u001b[1;32m    485\u001b[0m         inputs\u001b[39m=\u001b[39minputs,\n\u001b[1;32m    486\u001b[0m     )\n\u001b[0;32m--> 487\u001b[0m torch\u001b[39m.\u001b[39;49mautograd\u001b[39m.\u001b[39;49mbackward(\n\u001b[1;32m    488\u001b[0m     \u001b[39mself\u001b[39;49m, gradient, retain_graph, create_graph, inputs\u001b[39m=\u001b[39;49minputs\n\u001b[1;32m    489\u001b[0m )\n",
      "File \u001b[0;32m/usr/local/lib/python3.10/site-packages/torch/autograd/__init__.py:197\u001b[0m, in \u001b[0;36mbackward\u001b[0;34m(tensors, grad_tensors, retain_graph, create_graph, grad_variables, inputs)\u001b[0m\n\u001b[1;32m    192\u001b[0m     retain_graph \u001b[39m=\u001b[39m create_graph\n\u001b[1;32m    194\u001b[0m \u001b[39m# The reason we repeat same the comment below is that\u001b[39;00m\n\u001b[1;32m    195\u001b[0m \u001b[39m# some Python versions print out the first line of a multi-line function\u001b[39;00m\n\u001b[1;32m    196\u001b[0m \u001b[39m# calls in the traceback and some print out the last line\u001b[39;00m\n\u001b[0;32m--> 197\u001b[0m Variable\u001b[39m.\u001b[39;49m_execution_engine\u001b[39m.\u001b[39;49mrun_backward(  \u001b[39m# Calls into the C++ engine to run the backward pass\u001b[39;49;00m\n\u001b[1;32m    198\u001b[0m     tensors, grad_tensors_, retain_graph, create_graph, inputs,\n\u001b[1;32m    199\u001b[0m     allow_unreachable\u001b[39m=\u001b[39;49m\u001b[39mTrue\u001b[39;49;00m, accumulate_grad\u001b[39m=\u001b[39;49m\u001b[39mTrue\u001b[39;49;00m)\n",
      "\u001b[0;31mRuntimeError\u001b[0m: one of the variables needed for gradient computation has been modified by an inplace operation: [torch.FloatTensor [3, 3]], which is output 0 of ExpBackward0, is at version 1; expected version 0 instead. Hint: enable anomaly detection to find the operation that failed to compute its gradient, with torch.autograd.set_detect_anomaly(True)."
     ]
    }
   ],
   "source": [
    "x = torch.randn(3, 3, requires_grad=True)\n",
    "y = 2 * x\n",
    "z = y ** 2\n",
    "# inplace operation!\n",
    "y.exp_()  \n",
    "z.sum().backward()"
   ]
  },
  {
   "cell_type": "markdown",
   "metadata": {},
   "source": [
    "Другой распространённый в numpy сценарий - маскированное изменение значений тензора. Это тоже является in-place операцией. В pytorch для этого лучше использовать функцию `torch.where`:"
   ]
  },
  {
   "cell_type": "code",
   "execution_count": 30,
   "metadata": {
    "ExecuteTime": {
     "end_time": "2023-02-28T12:49:57.458715Z",
     "start_time": "2023-02-28T12:49:57.429632Z"
    }
   },
   "outputs": [
    {
     "data": {
      "text/plain": [
       "tensor([[0.4336, 0.4062, 0.5464],\n",
       "        [0.6937, 0.9116, 0.0409],\n",
       "        [0.7574, 0.9459, 0.3376]], requires_grad=True)"
      ]
     },
     "execution_count": 30,
     "metadata": {},
     "output_type": "execute_result"
    }
   ],
   "source": [
    "x = torch.rand(3,3, requires_grad=True)\n",
    "x"
   ]
  },
  {
   "cell_type": "code",
   "execution_count": 31,
   "metadata": {
    "ExecuteTime": {
     "end_time": "2023-02-28T12:49:58.744154Z",
     "start_time": "2023-02-28T12:49:58.685246Z"
    }
   },
   "outputs": [
    {
     "ename": "RuntimeError",
     "evalue": "a leaf Variable that requires grad is being used in an in-place operation.",
     "output_type": "error",
     "traceback": [
      "\u001b[0;31m---------------------------------------------------------------------------\u001b[0m",
      "\u001b[0;31mRuntimeError\u001b[0m                              Traceback (most recent call last)",
      "\u001b[1;32m/Users/nakhodnov/mmp_practicum_spring_2023/Seminars/Seminar 03/Основы Pytorch.ipynb Cell 71\u001b[0m in \u001b[0;36m1\n\u001b[0;32m----> <a href='vscode-notebook-cell:/Users/nakhodnov/mmp_practicum_spring_2023/Seminars/Seminar%2003/%D0%9E%D1%81%D0%BD%D0%BE%D0%B2%D1%8B%20Pytorch.ipynb#Y120sZmlsZQ%3D%3D?line=0'>1</a>\u001b[0m x[x \u001b[39m>\u001b[39;49m \u001b[39m0.5\u001b[39;49m] \u001b[39m=\u001b[39m \u001b[39m0\u001b[39m\n",
      "\u001b[0;31mRuntimeError\u001b[0m: a leaf Variable that requires grad is being used in an in-place operation."
     ]
    }
   ],
   "source": [
    "x[x > 0.5] = 0"
   ]
  },
  {
   "cell_type": "code",
   "execution_count": 32,
   "metadata": {
    "ExecuteTime": {
     "end_time": "2023-02-28T12:50:26.664407Z",
     "start_time": "2023-02-28T12:50:26.634154Z"
    }
   },
   "outputs": [
    {
     "data": {
      "text/plain": [
       "tensor([[0.4336, 0.4062, 0.0000],\n",
       "        [0.0000, 0.0000, 0.0409],\n",
       "        [0.0000, 0.0000, 0.3376]], grad_fn=<WhereBackward0>)"
      ]
     },
     "execution_count": 32,
     "metadata": {},
     "output_type": "execute_result"
    }
   ],
   "source": [
    "torch.where(x > 0.5, 0, x)"
   ]
  },
  {
   "cell_type": "markdown",
   "metadata": {},
   "source": [
    "#### `Копирование тензоров`"
   ]
  },
  {
   "cell_type": "markdown",
   "metadata": {},
   "source": [
    "В numpy существует интуитивно понятная функция `.copy()`, но в pytorch функции с таким названием нет! Это связано с тем, что тензоры в pytorch привязаны к графу вычислений, который надо также учитывать при копировании."
   ]
  },
  {
   "cell_type": "markdown",
   "metadata": {},
   "source": [
    "`.clone()` копирует тензор и сохраняет его привязку к текущему дереву вычислений:"
   ]
  },
  {
   "cell_type": "code",
   "execution_count": 33,
   "metadata": {
    "ExecuteTime": {
     "end_time": "2023-02-28T12:55:41.493960Z",
     "start_time": "2023-02-28T12:55:41.465480Z"
    }
   },
   "outputs": [
    {
     "data": {
      "text/plain": [
       "True"
      ]
     },
     "execution_count": 33,
     "metadata": {},
     "output_type": "execute_result"
    }
   ],
   "source": [
    "x = torch.rand(3, requires_grad=True)\n",
    "y = x.clone()\n",
    "y.requires_grad"
   ]
  },
  {
   "cell_type": "markdown",
   "metadata": {},
   "source": [
    "`.detach()` исходя из своего названия, копирует лишь значения элементов тензора, отвязывая его от текущего графа вычислений:"
   ]
  },
  {
   "cell_type": "code",
   "execution_count": 34,
   "metadata": {
    "ExecuteTime": {
     "end_time": "2023-02-28T12:55:55.365469Z",
     "start_time": "2023-02-28T12:55:55.336445Z"
    }
   },
   "outputs": [
    {
     "data": {
      "text/plain": [
       "False"
      ]
     },
     "execution_count": 34,
     "metadata": {},
     "output_type": "execute_result"
    }
   ],
   "source": [
    "y = x.detach()\n",
    "y.requires_grad"
   ]
  },
  {
   "cell_type": "markdown",
   "metadata": {},
   "source": [
    "Продемонстрируем на графе вычислений эти две операции:"
   ]
  },
  {
   "cell_type": "code",
   "execution_count": 35,
   "metadata": {
    "ExecuteTime": {
     "end_time": "2023-02-28T13:03:36.118640Z",
     "start_time": "2023-02-28T13:03:35.939848Z"
    }
   },
   "outputs": [
    {
     "data": {
      "image/svg+xml": [
       "<?xml version=\"1.0\" encoding=\"UTF-8\" standalone=\"no\"?>\n",
       "<!DOCTYPE svg PUBLIC \"-//W3C//DTD SVG 1.1//EN\"\n",
       " \"http://www.w3.org/Graphics/SVG/1.1/DTD/svg11.dtd\">\n",
       "<!-- Generated by graphviz version 7.1.0 (20230121.1956)\n",
       " -->\n",
       "<!-- Pages: 1 -->\n",
       "<svg width=\"149pt\" height=\"380pt\"\n",
       " viewBox=\"0.00 0.00 149.00 380.00\" xmlns=\"http://www.w3.org/2000/svg\" xmlns:xlink=\"http://www.w3.org/1999/xlink\">\n",
       "<g id=\"graph0\" class=\"graph\" transform=\"scale(1 1) rotate(0) translate(4 376)\">\n",
       "<polygon fill=\"white\" stroke=\"none\" points=\"-4,4 -4,-376 145,-376 145,4 -4,4\"/>\n",
       "<!-- 4894714480 -->\n",
       "<g id=\"node1\" class=\"node\">\n",
       "<title>4894714480</title>\n",
       "<polygon fill=\"#caff70\" stroke=\"black\" points=\"77.5,-31 23.5,-31 23.5,0 77.5,0 77.5,-31\"/>\n",
       "<text text-anchor=\"middle\" x=\"50.5\" y=\"-7\" font-family=\"monospace\" font-size=\"10.00\"> ()</text>\n",
       "</g>\n",
       "<!-- 4892350480 -->\n",
       "<g id=\"node2\" class=\"node\">\n",
       "<title>4892350480</title>\n",
       "<polygon fill=\"lightgrey\" stroke=\"black\" points=\"95,-86 6,-86 6,-67 95,-67 95,-86\"/>\n",
       "<text text-anchor=\"middle\" x=\"50.5\" y=\"-74\" font-family=\"monospace\" font-size=\"10.00\">SumBackward0</text>\n",
       "</g>\n",
       "<!-- 4892350480&#45;&gt;4894714480 -->\n",
       "<g id=\"edge7\" class=\"edge\">\n",
       "<title>4892350480&#45;&gt;4894714480</title>\n",
       "<path fill=\"none\" stroke=\"black\" d=\"M50.5,-66.54C50.5,-60.07 50.5,-50.98 50.5,-42.32\"/>\n",
       "<polygon fill=\"black\" stroke=\"black\" points=\"54,-42.58 50.5,-32.58 47,-42.58 54,-42.58\"/>\n",
       "</g>\n",
       "<!-- 4892350384 -->\n",
       "<g id=\"node3\" class=\"node\">\n",
       "<title>4892350384</title>\n",
       "<polygon fill=\"lightgrey\" stroke=\"black\" points=\"95,-141 6,-141 6,-122 95,-122 95,-141\"/>\n",
       "<text text-anchor=\"middle\" x=\"50.5\" y=\"-129\" font-family=\"monospace\" font-size=\"10.00\">AddBackward0</text>\n",
       "</g>\n",
       "<!-- 4892350384&#45;&gt;4892350480 -->\n",
       "<g id=\"edge1\" class=\"edge\">\n",
       "<title>4892350384&#45;&gt;4892350480</title>\n",
       "<path fill=\"none\" stroke=\"black\" d=\"M50.5,-121.75C50.5,-115.27 50.5,-106.16 50.5,-97.9\"/>\n",
       "<polygon fill=\"black\" stroke=\"black\" points=\"54,-97.96 50.5,-87.96 47,-97.96 54,-97.96\"/>\n",
       "</g>\n",
       "<!-- 4892351008 -->\n",
       "<g id=\"node4\" class=\"node\">\n",
       "<title>4892351008</title>\n",
       "<polygon fill=\"lightgrey\" stroke=\"black\" points=\"95,-196 6,-196 6,-177 95,-177 95,-196\"/>\n",
       "<text text-anchor=\"middle\" x=\"50.5\" y=\"-184\" font-family=\"monospace\" font-size=\"10.00\">AddBackward0</text>\n",
       "</g>\n",
       "<!-- 4892351008&#45;&gt;4892350384 -->\n",
       "<g id=\"edge2\" class=\"edge\">\n",
       "<title>4892351008&#45;&gt;4892350384</title>\n",
       "<path fill=\"none\" stroke=\"black\" d=\"M50.5,-176.75C50.5,-170.27 50.5,-161.16 50.5,-152.9\"/>\n",
       "<polygon fill=\"black\" stroke=\"black\" points=\"54,-152.96 50.5,-142.96 47,-152.96 54,-152.96\"/>\n",
       "</g>\n",
       "<!-- 4892351488 -->\n",
       "<g id=\"node5\" class=\"node\">\n",
       "<title>4892351488</title>\n",
       "<polygon fill=\"lightgrey\" stroke=\"black\" points=\"101,-306 0,-306 0,-287 101,-287 101,-306\"/>\n",
       "<text text-anchor=\"middle\" x=\"50.5\" y=\"-294\" font-family=\"monospace\" font-size=\"10.00\">AccumulateGrad</text>\n",
       "</g>\n",
       "<!-- 4892351488&#45;&gt;4892351008 -->\n",
       "<g id=\"edge3\" class=\"edge\">\n",
       "<title>4892351488&#45;&gt;4892351008</title>\n",
       "<path fill=\"none\" stroke=\"black\" d=\"M44.61,-286.6C37.29,-274.45 26.24,-251.89 30.5,-232 32.38,-223.21 36.15,-214.06 39.9,-206.35\"/>\n",
       "<polygon fill=\"black\" stroke=\"black\" points=\"42.92,-208.14 44.48,-197.66 36.72,-204.88 42.92,-208.14\"/>\n",
       "</g>\n",
       "<!-- 4892349040 -->\n",
       "<g id=\"node7\" class=\"node\">\n",
       "<title>4892349040</title>\n",
       "<polygon fill=\"lightgrey\" stroke=\"black\" points=\"141,-251 40,-251 40,-232 141,-232 141,-251\"/>\n",
       "<text text-anchor=\"middle\" x=\"90.5\" y=\"-239\" font-family=\"monospace\" font-size=\"10.00\">CloneBackward0</text>\n",
       "</g>\n",
       "<!-- 4892351488&#45;&gt;4892349040 -->\n",
       "<g id=\"edge6\" class=\"edge\">\n",
       "<title>4892351488&#45;&gt;4892349040</title>\n",
       "<path fill=\"none\" stroke=\"black\" d=\"M57.11,-286.75C62.46,-279.66 70.18,-269.42 76.85,-260.59\"/>\n",
       "<polygon fill=\"black\" stroke=\"black\" points=\"79.61,-262.74 82.84,-252.65 74.02,-258.52 79.61,-262.74\"/>\n",
       "</g>\n",
       "<!-- 4894376320 -->\n",
       "<g id=\"node6\" class=\"node\">\n",
       "<title>4894376320</title>\n",
       "<polygon fill=\"lightblue\" stroke=\"black\" points=\"77.5,-372 23.5,-372 23.5,-342 77.5,-342 77.5,-372\"/>\n",
       "<text text-anchor=\"middle\" x=\"50.5\" y=\"-360\" font-family=\"monospace\" font-size=\"10.00\">X</text>\n",
       "<text text-anchor=\"middle\" x=\"50.5\" y=\"-349\" font-family=\"monospace\" font-size=\"10.00\"> (3)</text>\n",
       "</g>\n",
       "<!-- 4894376320&#45;&gt;4892351488 -->\n",
       "<g id=\"edge4\" class=\"edge\">\n",
       "<title>4894376320&#45;&gt;4892351488</title>\n",
       "<path fill=\"none\" stroke=\"black\" d=\"M50.5,-341.54C50.5,-334.34 50.5,-325.53 50.5,-317.68\"/>\n",
       "<polygon fill=\"black\" stroke=\"black\" points=\"54,-317.69 50.5,-307.69 47,-317.69 54,-317.69\"/>\n",
       "</g>\n",
       "<!-- 4892349040&#45;&gt;4892351008 -->\n",
       "<g id=\"edge5\" class=\"edge\">\n",
       "<title>4892349040&#45;&gt;4892351008</title>\n",
       "<path fill=\"none\" stroke=\"black\" d=\"M83.89,-231.75C78.54,-224.66 70.82,-214.42 64.15,-205.59\"/>\n",
       "<polygon fill=\"black\" stroke=\"black\" points=\"66.98,-203.52 58.16,-197.65 61.39,-207.74 66.98,-203.52\"/>\n",
       "</g>\n",
       "</g>\n",
       "</svg>\n"
      ],
      "text/plain": [
       "<graphviz.graphs.Digraph at 0x1239b50f0>"
      ]
     },
     "execution_count": 35,
     "metadata": {},
     "output_type": "execute_result"
    }
   ],
   "source": [
    "x = torch.nn.Parameter(torch.rand(3))\n",
    "y = torch.nn.Parameter(torch.rand(3))\n",
    "\n",
    "z = torch.sum(x + x.clone() + y.detach())\n",
    "\n",
    "make_dot(z, params={'X': x, 'Y': y})"
   ]
  },
  {
   "cell_type": "markdown",
   "metadata": {},
   "source": [
    "Что можно понять из данного графа?\n",
    "\n",
    "* Видна операция `CloneBackward0`, которая клонирует тензор `x`. Благодаря ей в сумме участвует как исходный тензор, так и его экспонированная версия.\n",
    "* Во второй сумме мы не видим параметра `y`, потому что он входит в граф вычислений только через `.detach()`, что убирает проход градиентов."
   ]
  },
  {
   "cell_type": "markdown",
   "metadata": {},
   "source": [
    "#### `Менеджеры контекста`"
   ]
  },
  {
   "cell_type": "markdown",
   "metadata": {},
   "source": [
    "Поведением градиента сразу группы тензоров можно управлять с помощью специальных функций, которые вызываются через стандартную семантику питона `with foo():`, где `foo` — одна из трёх функций ниже:\n",
    "\n",
    "**Default Mode**\n",
    "\n",
    "Стандартный режим работы pytorch, в котором управление градиентами происходит через requires_grad. Явно его нужно вызывать только внутри других контекстных менеджеров, чтобы временно снова активировать расчёт градиентов (что случается крайне редко) вызовом `torch.enable_grad()`.\n",
    "\n",
    "**No grad mode**\n",
    "\n",
    "Данный режим используется когда блока кода нет необходимости вычислять градиенты, что занимает как вычислительные ресурсы, так и дополнительную память. Реализуется вызовом `torch.no_grad()`.\n",
    "\n",
    "**Inference mode**\n",
    "\n",
    "Аналогично No grad mode отключает расчёт градиентов, но кроме того проводит дополнительные оптимизации, что делает вычисления внутри блока кода ещё быстрее. Однако, тензоры, созданные в таком блоке будет невозможно использовать совместно с тензорами, для которых расчёт градиента необходим. Реализуется вызовом `torch.inference_mode()`."
   ]
  },
  {
   "cell_type": "code",
   "execution_count": 42,
   "metadata": {
    "ExecuteTime": {
     "end_time": "2023-02-28T13:12:02.050827Z",
     "start_time": "2023-02-28T13:12:02.022463Z"
    }
   },
   "outputs": [
    {
     "data": {
      "text/plain": [
       "False"
      ]
     },
     "execution_count": 42,
     "metadata": {},
     "output_type": "execute_result"
    }
   ],
   "source": [
    "x = torch.rand(3, requires_grad=True)\n",
    "\n",
    "with torch.no_grad():\n",
    "    y = x + x\n",
    "    \n",
    "y.requires_grad"
   ]
  },
  {
   "cell_type": "code",
   "execution_count": 43,
   "metadata": {
    "ExecuteTime": {
     "end_time": "2023-02-28T13:12:09.802900Z",
     "start_time": "2023-02-28T13:12:09.774068Z"
    }
   },
   "outputs": [
    {
     "data": {
      "text/plain": [
       "False"
      ]
     },
     "execution_count": 43,
     "metadata": {},
     "output_type": "execute_result"
    }
   ],
   "source": [
    "@torch.no_grad()\n",
    "def foo(x):\n",
    "    return x + 2\n",
    "\n",
    "y = foo(x)\n",
    "y.requires_grad"
   ]
  },
  {
   "cell_type": "markdown",
   "metadata": {
    "heading_collapsed": true
   },
   "source": [
    "#### `.item`"
   ]
  },
  {
   "cell_type": "markdown",
   "metadata": {
    "hidden": true
   },
   "source": [
    "Часто при подсчёте метрик возникают тензоры из одного элемента/скаляры, которые могут находится на GPU или быть частью графа вычислений.\n",
    "\n",
    "Сохранение таких тензоров в массив приведёт к утечке памяти. Чтобы этого избежать существует возможность трансформирования таких тензоров в Python скаляр:"
   ]
  },
  {
   "cell_type": "code",
   "execution_count": 44,
   "metadata": {
    "ExecuteTime": {
     "end_time": "2023-02-28T10:59:22.222287Z",
     "start_time": "2023-02-28T10:59:22.193552Z"
    },
    "hidden": true
   },
   "outputs": [
    {
     "data": {
      "text/plain": [
       "(tensor([-0.2333], grad_fn=<MeanBackward1>), -0.23329778015613556)"
      ]
     },
     "execution_count": 44,
     "metadata": {},
     "output_type": "execute_result"
    }
   ],
   "source": [
    "x = torch.randn(10, requires_grad=True)\n",
    "loss = torch.mean(x, dim=0, keepdim=True)\n",
    "loss, loss.item()"
   ]
  }
 ],
 "metadata": {
  "kernelspec": {
   "display_name": "Python 3 (ipykernel)",
   "language": "python",
   "name": "python3"
  },
  "language_info": {
   "codemirror_mode": {
    "name": "ipython",
    "version": 3
   },
   "file_extension": ".py",
   "mimetype": "text/x-python",
   "name": "python",
   "nbconvert_exporter": "python",
   "pygments_lexer": "ipython3",
   "version": "3.10.9"
  }
 },
 "nbformat": 4,
 "nbformat_minor": 4
}
